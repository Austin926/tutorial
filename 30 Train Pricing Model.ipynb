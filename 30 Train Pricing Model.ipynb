{
 "cells": [
  {
   "cell_type": "markdown",
   "metadata": {},
   "source": [
    "# Estimate car price - Train Model\n",
    "\n",
    "### Introduction\n",
    "-  Learn from previous sales of used cars to estimate price of further used vehicles\n",
    "-  Push calculations down to SAP HANA. Leverage the in-memory performance directly out of Python without data extraction.\n",
    "\n",
    "### Documentation\n",
    "-  SAP HANA Python Client API for Machine Learning Algorithms:   \n",
    "   https://help.sap.com/doc/0172e3957b5946da85d3fde85ee8f33d/latest/en-US/html/hana_ml.html\n",
    "-  SAP HANA Predictive Analysis Library (PAL):  \n",
    "   https://help.sap.com/viewer/2cfbc5cf2bc14f028cfbe2a2bba60a50/latest/en-US/f652a8186a144e929a1ade7a3cb7abe8.html\n",
    "-  Dataset: https://www.kaggle.com/bozungu/ebay-used-car-sales-data"
   ]
  },
  {
   "cell_type": "markdown",
   "metadata": {},
   "source": [
    "### Create a HANA DataFrame, which points to the prepared view. The data remains in SAP HANA."
   ]
  },
  {
   "cell_type": "code",
   "execution_count": 1,
   "metadata": {},
   "outputs": [],
   "source": [
    "# Obtain logon details from the central Connection Management of SAP Data Intelligence\n",
    "import hana_ml.dataframe as dataframe\n",
    "\n",
    "# Instantiate connection object\n",
    "from notebook_hana_connector.notebook_hana_connector import NotebookConnectionContext\n",
    "conn = NotebookConnectionContext(connectionId='HANADB')\n",
    "\n",
    "# Create the HANA dataframe in the structure of the specified table\n",
    "df_pushdown = conn.table(\"USEDCARPRICES_PREP_VIEW\", schema=\"TAXX\")"
   ]
  },
  {
   "cell_type": "markdown",
   "metadata": {},
   "source": [
    "### Split data into train and test"
   ]
  },
  {
   "cell_type": "code",
   "execution_count": 2,
   "metadata": {},
   "outputs": [],
   "source": [
    "# Add single character from hash\n",
    "df_pushdown_hash = df_pushdown.select(('SUBSTR (CAST(HASH_SHA256(to_binary(\"CAR_ID\")) AS VARCHAR), 1, 1)', \n",
    "                                                'CAR_ID_HASH'), df_pushdown.columns)"
   ]
  },
  {
   "cell_type": "code",
   "execution_count": 3,
   "metadata": {},
   "outputs": [
    {
     "name": "stdout",
     "output_type": "stream",
     "text": [
      "Training size: 14878\n",
      "Test size: 3455\n"
     ]
    }
   ],
   "source": [
    "# Specify split / filter criteria\n",
    "row_filter = \"'0', '1', '2'\"  # out of 16, from 0 to F. 3 out of 16 averages to 18.75%\n",
    "\n",
    "# Split data by applying filter\n",
    "# example: df_pushdown_train = df_pushdown_hash.filter('\"CAR_ID_HASH\" NOT IN (\\'0\\', \\'1\\', \\'2\\')')\n",
    "df_pushdown_train = df_pushdown_hash.filter('\"CAR_ID_HASH\" NOT IN (' + row_filter + ')').drop([\"CAR_ID_HASH\"])\n",
    "df_pushdown_test = df_pushdown_hash.filter('\"CAR_ID_HASH\" IN (' + row_filter + ')').drop([\"CAR_ID_HASH\"])\n",
    "\n",
    "print(\"Training size: \" + str(df_pushdown_train.count()))\n",
    "print(\"Test size: \" + str(df_pushdown_test.count()))"
   ]
  },
  {
   "cell_type": "markdown",
   "metadata": {},
   "source": [
    "### Train decision tree regression"
   ]
  },
  {
   "cell_type": "code",
   "execution_count": 4,
   "metadata": {
    "collapsed": true
   },
   "outputs": [],
   "source": [
    "from hana_ml.algorithms.pal import trees\n",
    "tree_reg = trees.DecisionTreeRegressor(conn_context=conn, \n",
    "                                   algorithm='cart',\n",
    "                                   min_records_of_parent=10,\n",
    "                                   min_records_of_leaf=1,\n",
    "                                   thread_ratio=0.4,\n",
    "                                   split_threshold=1e-5,\n",
    "                                   model_format='json',\n",
    "                                   output_rules=True)\n",
    "\n",
    "# Specify the tree's predictors\n",
    "features = ['GEARBOX_IMP', \"VEHICLETYPE\", \"YEAR\", \"MODEL\", \"HP\", \"FUELTYPE\", \"KILOMETER\", \"DAMAGED\"]\n",
    "\n",
    "# Train the tree\n",
    "tree_reg.fit(df_pushdown_train, key=\"CAR_ID\", label=\"PRICE\", features=features)"
   ]
  },
  {
   "cell_type": "markdown",
   "metadata": {},
   "source": [
    "### Show decision tree logic \n",
    "(only very small part of the whole tree)"
   ]
  },
  {
   "cell_type": "code",
   "execution_count": 5,
   "metadata": {},
   "outputs": [
    {
     "data": {
      "text/plain": [
       "'(YEAR<2008.5) && (HP>=218.5) && ((MODEL=GLK)||(MODEL=GL)||(MODEL=SL)||(MODEL=G-Class)) && (HP>=310.5) && (HP>=512.5) => 46357.8'"
      ]
     },
     "execution_count": 5,
     "metadata": {},
     "output_type": "execute_result"
    }
   ],
   "source": [
    "df_rules = tree_reg.decision_rules_.head(1).collect()\n",
    "\n",
    "# First rule\n",
    "df_rules.iloc[0,1]"
   ]
  },
  {
   "cell_type": "markdown",
   "metadata": {},
   "source": [
    "### Training set: Quality metric (R^2)"
   ]
  },
  {
   "cell_type": "code",
   "execution_count": 6,
   "metadata": {},
   "outputs": [
    {
     "name": "stdout",
     "output_type": "stream",
     "text": [
      "R'2 on train data: 0.941402383694653\n"
     ]
    }
   ],
   "source": [
    "print(\"R'2 on train data: \" + str(tree_reg.score(df_pushdown_train, key=\"CAR_ID\")))"
   ]
  },
  {
   "cell_type": "markdown",
   "metadata": {},
   "source": [
    "### Test set: Compare Actuals with Predictions"
   ]
  },
  {
   "cell_type": "code",
   "execution_count": 7,
   "metadata": {},
   "outputs": [],
   "source": [
    "df_pushdown_act_pred = df_pushdown_test.alias('L').join(\n",
    "    tree_reg.predict(df_pushdown_test, features=features, key=\"CAR_ID\").alias('R'),\n",
    "    '\"L\".\"CAR_ID\" = \"R\".\"CAR_ID\"', \n",
    "    select=[('\"L\".\"CAR_ID\"', 'CAR_ID'), \"MODEL\", ('\"PRICE\"','ACTUALS'), ('\"SCORE\"', 'PREDICTIONS')])"
   ]
  },
  {
   "cell_type": "code",
   "execution_count": 8,
   "metadata": {},
   "outputs": [
    {
     "data": {
      "text/html": [
       "<div>\n",
       "<style scoped>\n",
       "    .dataframe tbody tr th:only-of-type {\n",
       "        vertical-align: middle;\n",
       "    }\n",
       "\n",
       "    .dataframe tbody tr th {\n",
       "        vertical-align: top;\n",
       "    }\n",
       "\n",
       "    .dataframe thead th {\n",
       "        text-align: right;\n",
       "    }\n",
       "</style>\n",
       "<table border=\"1\" class=\"dataframe\">\n",
       "  <thead>\n",
       "    <tr style=\"text-align: right;\">\n",
       "      <th></th>\n",
       "      <th>CAR_ID</th>\n",
       "      <th>MODEL</th>\n",
       "      <th>ACTUALS</th>\n",
       "      <th>PREDICTIONS</th>\n",
       "    </tr>\n",
       "  </thead>\n",
       "  <tbody>\n",
       "    <tr>\n",
       "      <th>0</th>\n",
       "      <td>272</td>\n",
       "      <td>C-Class</td>\n",
       "      <td>5000.0</td>\n",
       "      <td>3679.94</td>\n",
       "    </tr>\n",
       "    <tr>\n",
       "      <th>1</th>\n",
       "      <td>378</td>\n",
       "      <td>C-Class</td>\n",
       "      <td>1700.0</td>\n",
       "      <td>2692.72</td>\n",
       "    </tr>\n",
       "    <tr>\n",
       "      <th>2</th>\n",
       "      <td>386</td>\n",
       "      <td>C-Class</td>\n",
       "      <td>3799.0</td>\n",
       "      <td>2692.72</td>\n",
       "    </tr>\n",
       "    <tr>\n",
       "      <th>3</th>\n",
       "      <td>394</td>\n",
       "      <td>C-Class</td>\n",
       "      <td>2499.0</td>\n",
       "      <td>3679.94</td>\n",
       "    </tr>\n",
       "    <tr>\n",
       "      <th>4</th>\n",
       "      <td>1055</td>\n",
       "      <td>C-Class</td>\n",
       "      <td>10300.0</td>\n",
       "      <td>9733.61</td>\n",
       "    </tr>\n",
       "  </tbody>\n",
       "</table>\n",
       "</div>"
      ],
      "text/plain": [
       "   CAR_ID    MODEL  ACTUALS PREDICTIONS\n",
       "0     272  C-Class   5000.0     3679.94\n",
       "1     378  C-Class   1700.0     2692.72\n",
       "2     386  C-Class   3799.0     2692.72\n",
       "3     394  C-Class   2499.0     3679.94\n",
       "4    1055  C-Class  10300.0     9733.61"
      ]
     },
     "execution_count": 8,
     "metadata": {},
     "output_type": "execute_result"
    }
   ],
   "source": [
    "df_pushdown_act_pred.head(5).collect()"
   ]
  },
  {
   "cell_type": "code",
   "execution_count": 9,
   "metadata": {},
   "outputs": [
    {
     "data": {
      "text/plain": [
       "'SELECT \"L\".\"CAR_ID\" AS \"CAR_ID\", \"MODEL\", \"PRICE\" AS \"ACTUALS\", \"SCORE\" AS \"PREDICTIONS\" FROM (SELECT \"GEARBOX_IMP\", \"CAR_ID\", \"VEHICLETYPE\", \"NAME\", \"MODEL\", \"YEAR\", \"HP\", \"FUELTYPE\", \"KILOMETER\", \"DAMAGED\", \"PRICE\" FROM (SELECT * FROM (SELECT SUBSTR (CAST(HASH_SHA256(to_binary(\"CAR_ID\")) AS VARCHAR), 1, 1) AS \"CAR_ID_HASH\", \"GEARBOX_IMP\", \"CAR_ID\", \"VEHICLETYPE\", \"NAME\", \"MODEL\", \"YEAR\", \"HP\", \"FUELTYPE\", \"KILOMETER\", \"DAMAGED\", \"PRICE\" FROM (SELECT * FROM \"TA60\".\"USEDCARPRICES_PREP_VIEW\") AS \"DT_0\") AS \"DT_1\" WHERE \"CAR_ID_HASH\" IN (\\'0\\', \\'1\\', \\'2\\')) AS \"DT_4\") AS \"L\" INNER JOIN (SELECT * FROM \"#PAL_DECISION_TREE_RESULT_TBL_0_02E5C5AE_CFE3_11E9_ACAD_0A4E9FFB99DE\") AS \"R\" ON \"L\".\"CAR_ID\" = \"R\".\"CAR_ID\"'"
      ]
     },
     "execution_count": 9,
     "metadata": {},
     "output_type": "execute_result"
    }
   ],
   "source": [
    "df_pushdown_act_pred.select_statement"
   ]
  },
  {
   "cell_type": "markdown",
   "metadata": {},
   "source": [
    "### Test set: Quality metric (Root Mean Squared Error) "
   ]
  },
  {
   "cell_type": "code",
   "execution_count": 10,
   "metadata": {},
   "outputs": [
    {
     "name": "stdout",
     "output_type": "stream",
     "text": [
      "RMSE: 3015.31\n"
     ]
    }
   ],
   "source": [
    "# Calculate in SAP HANA\n",
    "import numpy as np\n",
    "df_pushdown_se = df_pushdown_act_pred.select('CAR_ID', 'MODEL', 'ACTUALS', 'PREDICTIONS', ('(ACTUALS - PREDICTIONS) * (ACTUALS - PREDICTIONS) ', 'ERRORSQ'))\n",
    "df_mse = df_pushdown_se.agg([('avg', 'ERRORSQ', 'MSE')]).collect()\n",
    "rmse = np.sqrt(float(df_mse.iloc[0:,0]))\n",
    "print(\"RMSE: \" + str(round(rmse, 2)))"
   ]
  },
  {
   "cell_type": "markdown",
   "metadata": {},
   "source": [
    "### Error Analysis by car model"
   ]
  },
  {
   "cell_type": "code",
   "execution_count": 11,
   "metadata": {},
   "outputs": [
    {
     "data": {
      "text/html": [
       "<div>\n",
       "<style scoped>\n",
       "    .dataframe tbody tr th:only-of-type {\n",
       "        vertical-align: middle;\n",
       "    }\n",
       "\n",
       "    .dataframe tbody tr th {\n",
       "        vertical-align: top;\n",
       "    }\n",
       "\n",
       "    .dataframe thead th {\n",
       "        text-align: right;\n",
       "    }\n",
       "</style>\n",
       "<table border=\"1\" class=\"dataframe\">\n",
       "  <thead>\n",
       "    <tr style=\"text-align: right;\">\n",
       "      <th></th>\n",
       "      <th>MODEL</th>\n",
       "      <th>MSE</th>\n",
       "      <th>RMSE</th>\n",
       "    </tr>\n",
       "  </thead>\n",
       "  <tbody>\n",
       "    <tr>\n",
       "      <th>16</th>\n",
       "      <td>G-Class</td>\n",
       "      <td>1.022071e+08</td>\n",
       "      <td>10109.750939</td>\n",
       "    </tr>\n",
       "    <tr>\n",
       "      <th>10</th>\n",
       "      <td>SL</td>\n",
       "      <td>8.383365e+07</td>\n",
       "      <td>9156.072028</td>\n",
       "    </tr>\n",
       "    <tr>\n",
       "      <th>17</th>\n",
       "      <td>V-Class</td>\n",
       "      <td>7.709792e+07</td>\n",
       "      <td>8780.542309</td>\n",
       "    </tr>\n",
       "    <tr>\n",
       "      <th>12</th>\n",
       "      <td>GL</td>\n",
       "      <td>2.758510e+07</td>\n",
       "      <td>5252.152237</td>\n",
       "    </tr>\n",
       "    <tr>\n",
       "      <th>11</th>\n",
       "      <td>Viano</td>\n",
       "      <td>1.840250e+07</td>\n",
       "      <td>4289.813733</td>\n",
       "    </tr>\n",
       "    <tr>\n",
       "      <th>15</th>\n",
       "      <td>GLK</td>\n",
       "      <td>1.487161e+07</td>\n",
       "      <td>3856.372782</td>\n",
       "    </tr>\n",
       "    <tr>\n",
       "      <th>9</th>\n",
       "      <td>M-Class</td>\n",
       "      <td>1.434625e+07</td>\n",
       "      <td>3787.644561</td>\n",
       "    </tr>\n",
       "    <tr>\n",
       "      <th>7</th>\n",
       "      <td>CL</td>\n",
       "      <td>1.417132e+07</td>\n",
       "      <td>3764.480712</td>\n",
       "    </tr>\n",
       "    <tr>\n",
       "      <th>8</th>\n",
       "      <td>S-Class</td>\n",
       "      <td>1.398648e+07</td>\n",
       "      <td>3739.850779</td>\n",
       "    </tr>\n",
       "    <tr>\n",
       "      <th>5</th>\n",
       "      <td>Other</td>\n",
       "      <td>1.258669e+07</td>\n",
       "      <td>3547.772718</td>\n",
       "    </tr>\n",
       "    <tr>\n",
       "      <th>14</th>\n",
       "      <td>Sprinter</td>\n",
       "      <td>1.128883e+07</td>\n",
       "      <td>3359.884824</td>\n",
       "    </tr>\n",
       "    <tr>\n",
       "      <th>3</th>\n",
       "      <td>CLK</td>\n",
       "      <td>9.917959e+06</td>\n",
       "      <td>3149.279120</td>\n",
       "    </tr>\n",
       "    <tr>\n",
       "      <th>6</th>\n",
       "      <td>E-Class</td>\n",
       "      <td>9.484541e+06</td>\n",
       "      <td>3079.698142</td>\n",
       "    </tr>\n",
       "    <tr>\n",
       "      <th>13</th>\n",
       "      <td>Vito</td>\n",
       "      <td>8.792471e+06</td>\n",
       "      <td>2965.210031</td>\n",
       "    </tr>\n",
       "    <tr>\n",
       "      <th>4</th>\n",
       "      <td>SLK</td>\n",
       "      <td>5.302122e+06</td>\n",
       "      <td>2302.633778</td>\n",
       "    </tr>\n",
       "    <tr>\n",
       "      <th>0</th>\n",
       "      <td>C-Class</td>\n",
       "      <td>5.109033e+06</td>\n",
       "      <td>2260.317040</td>\n",
       "    </tr>\n",
       "    <tr>\n",
       "      <th>1</th>\n",
       "      <td>B-Class</td>\n",
       "      <td>2.488761e+06</td>\n",
       "      <td>1577.580732</td>\n",
       "    </tr>\n",
       "    <tr>\n",
       "      <th>2</th>\n",
       "      <td>A-Class</td>\n",
       "      <td>1.849277e+06</td>\n",
       "      <td>1359.881224</td>\n",
       "    </tr>\n",
       "  </tbody>\n",
       "</table>\n",
       "</div>"
      ],
      "text/plain": [
       "       MODEL           MSE          RMSE\n",
       "16   G-Class  1.022071e+08  10109.750939\n",
       "10        SL  8.383365e+07   9156.072028\n",
       "17   V-Class  7.709792e+07   8780.542309\n",
       "12        GL  2.758510e+07   5252.152237\n",
       "11     Viano  1.840250e+07   4289.813733\n",
       "15       GLK  1.487161e+07   3856.372782\n",
       "9    M-Class  1.434625e+07   3787.644561\n",
       "7         CL  1.417132e+07   3764.480712\n",
       "8    S-Class  1.398648e+07   3739.850779\n",
       "5      Other  1.258669e+07   3547.772718\n",
       "14  Sprinter  1.128883e+07   3359.884824\n",
       "3        CLK  9.917959e+06   3149.279120\n",
       "6    E-Class  9.484541e+06   3079.698142\n",
       "13      Vito  8.792471e+06   2965.210031\n",
       "4        SLK  5.302122e+06   2302.633778\n",
       "0    C-Class  5.109033e+06   2260.317040\n",
       "1    B-Class  2.488761e+06   1577.580732\n",
       "2    A-Class  1.849277e+06   1359.881224"
      ]
     },
     "execution_count": 11,
     "metadata": {},
     "output_type": "execute_result"
    }
   ],
   "source": [
    "df_mse = df_pushdown_se.agg([('avg', 'ERRORSQ', 'MSE')], group_by=['MODEL']).collect()\n",
    "df_mse[\"RMSE\"] = np.sqrt(df_mse[\"MSE\"])\n",
    "df_mse.sort_values(by=['RMSE'], ascending = False)"
   ]
  },
  {
   "cell_type": "markdown",
   "metadata": {},
   "source": [
    "### Grid search for hyperparameters"
   ]
  },
  {
   "cell_type": "code",
   "execution_count": 12,
   "metadata": {},
   "outputs": [],
   "source": [
    "min_records_of_parent = [1, 2, 3, 4, 5, 7, 10]\n",
    "min_records_of_leaf = [1, 2, 3, 5]"
   ]
  },
  {
   "cell_type": "code",
   "execution_count": 16,
   "metadata": {},
   "outputs": [],
   "source": [
    "#!pip install sklearn"
   ]
  },
  {
   "cell_type": "code",
   "execution_count": 17,
   "metadata": {},
   "outputs": [
    {
     "name": "stdout",
     "output_type": "stream",
     "text": [
      "min_records_of_parent:  1  | min_records_of_leaf:  1\n",
      "RMSE on test data: 3211.09\n",
      "\n",
      "min_records_of_parent:  1  | min_records_of_leaf:  2\n",
      "RMSE on test data: 3100.86\n",
      "\n",
      "min_records_of_parent:  1  | min_records_of_leaf:  3\n",
      "RMSE on test data: 3094.47\n",
      "\n",
      "min_records_of_parent:  1  | min_records_of_leaf:  5\n",
      "RMSE on test data: 3152.21\n",
      "\n",
      "min_records_of_parent:  2  | min_records_of_leaf:  1\n",
      "RMSE on test data: 3211.09\n",
      "\n",
      "min_records_of_parent:  2  | min_records_of_leaf:  2\n",
      "RMSE on test data: 3100.86\n",
      "\n",
      "min_records_of_parent:  2  | min_records_of_leaf:  3\n",
      "RMSE on test data: 3094.47\n",
      "\n",
      "min_records_of_parent:  2  | min_records_of_leaf:  5\n",
      "RMSE on test data: 3152.21\n",
      "\n",
      "min_records_of_parent:  3  | min_records_of_leaf:  1\n",
      "RMSE on test data: 3214.78\n",
      "\n",
      "min_records_of_parent:  3  | min_records_of_leaf:  2\n",
      "RMSE on test data: 3100.86\n",
      "\n",
      "min_records_of_parent:  3  | min_records_of_leaf:  3\n",
      "RMSE on test data: 3094.47\n",
      "\n",
      "min_records_of_parent:  3  | min_records_of_leaf:  5\n",
      "RMSE on test data: 3152.21\n",
      "\n",
      "min_records_of_parent:  4  | min_records_of_leaf:  1\n",
      "RMSE on test data: 3193.01\n",
      "\n",
      "min_records_of_parent:  4  | min_records_of_leaf:  2\n",
      "RMSE on test data: 3100.86\n",
      "\n",
      "min_records_of_parent:  4  | min_records_of_leaf:  3\n",
      "RMSE on test data: 3094.47\n",
      "\n",
      "min_records_of_parent:  4  | min_records_of_leaf:  5\n",
      "RMSE on test data: 3152.21\n",
      "\n",
      "min_records_of_parent:  5  | min_records_of_leaf:  1\n",
      "RMSE on test data: 3132.76\n",
      "\n",
      "min_records_of_parent:  5  | min_records_of_leaf:  2\n",
      "RMSE on test data: 3081.49\n",
      "\n",
      "min_records_of_parent:  5  | min_records_of_leaf:  3\n",
      "RMSE on test data: 3094.47\n",
      "\n",
      "min_records_of_parent:  5  | min_records_of_leaf:  5\n",
      "RMSE on test data: 3152.21\n",
      "\n",
      "min_records_of_parent:  7  | min_records_of_leaf:  1\n",
      "RMSE on test data: 3055.06\n",
      "\n",
      "min_records_of_parent:  7  | min_records_of_leaf:  2\n",
      "RMSE on test data: 3068.08\n",
      "\n",
      "min_records_of_parent:  7  | min_records_of_leaf:  3\n",
      "RMSE on test data: 3087.06\n",
      "\n",
      "min_records_of_parent:  7  | min_records_of_leaf:  5\n",
      "RMSE on test data: 3152.21\n",
      "\n",
      "min_records_of_parent:  10  | min_records_of_leaf:  1\n",
      "RMSE on test data: 3015.31\n",
      "\n",
      "min_records_of_parent:  10  | min_records_of_leaf:  2\n",
      "RMSE on test data: 3072.9\n",
      "\n",
      "min_records_of_parent:  10  | min_records_of_leaf:  3\n",
      "RMSE on test data: 3078.57\n",
      "\n",
      "min_records_of_parent:  10  | min_records_of_leaf:  5\n",
      "RMSE on test data: 3152.21\n",
      "\n",
      "Done\n"
     ]
    }
   ],
   "source": [
    "import pandas as pd\n",
    "from math import sqrt\n",
    "from sklearn.metrics import mean_squared_error\n",
    "\n",
    "# Dataframe to store hyperparameters with model quality\n",
    "df_hyper_quality = pd.DataFrame(columns=['MIN_RECORDS_OF_PARENT', 'MIN_RECORDS_OF_LEAF', 'RMSE'])\n",
    "\n",
    "# Iterate through all combinations\n",
    "from hana_ml.algorithms.pal import trees\n",
    "for aa in min_records_of_parent:\n",
    "    for bb in min_records_of_leaf:\n",
    "        tree_reg = trees.DecisionTreeRegressor(conn_context=conn,\n",
    "                                   algorithm='cart',\n",
    "                                   min_records_of_parent=aa,\n",
    "                                   min_records_of_leaf=bb,\n",
    "                                   thread_ratio=0.4,\n",
    "                                   split_threshold=1e-5,\n",
    "                                   model_format='json',\n",
    "                                   output_rules=True)\n",
    "\n",
    "        # Train the tree\n",
    "        tree_reg.fit(df_pushdown_train, features=features, key=\"CAR_ID\", label='PRICE')\n",
    "\n",
    "        print(\"min_records_of_parent: \", aa, \" | min_records_of_leaf: \", bb)\n",
    "        \n",
    "        df_pushdown_act_pred = df_pushdown_test.alias('L').join(\n",
    "            tree_reg.predict(df_pushdown_test, features=features, key=\"CAR_ID\").alias('R'),\n",
    "            '\"L\".\"CAR_ID\" = \"R\".\"CAR_ID\"', \n",
    "            select=[('\"L\".\"CAR_ID\"', 'CAR_ID'), ('\"PRICE\"','ACTUALS'), ('\"SCORE\"', 'PREDICTIONS')])\n",
    "        df_act_pred = df_pushdown_act_pred.select(\"ACTUALS\", \"PREDICTIONS\").collect()\n",
    "        rmse = sqrt(mean_squared_error(df_act_pred.loc[:,\"ACTUALS\"], df_act_pred.loc[:,\"PREDICTIONS\"]))\n",
    "        print(\"RMSE on test data: \" + str(round(rmse, 2)))\n",
    "        print()\n",
    "        \n",
    "        # Add to hyperparameter store\n",
    "        df_hyper_quality = df_hyper_quality.append({'MIN_RECORDS_OF_PARENT': aa, 'MIN_RECORDS_OF_LEAF': bb, 'RMSE': rmse}, ignore_index = True)\n",
    "        \n",
    "print(\"Done\")"
   ]
  },
  {
   "cell_type": "markdown",
   "metadata": {},
   "source": [
    "### Model quality by hyperparameters"
   ]
  },
  {
   "cell_type": "code",
   "execution_count": 18,
   "metadata": {},
   "outputs": [
    {
     "data": {
      "text/html": [
       "<div>\n",
       "<style scoped>\n",
       "    .dataframe tbody tr th:only-of-type {\n",
       "        vertical-align: middle;\n",
       "    }\n",
       "\n",
       "    .dataframe tbody tr th {\n",
       "        vertical-align: top;\n",
       "    }\n",
       "\n",
       "    .dataframe thead th {\n",
       "        text-align: right;\n",
       "    }\n",
       "</style>\n",
       "<table border=\"1\" class=\"dataframe\">\n",
       "  <thead>\n",
       "    <tr style=\"text-align: right;\">\n",
       "      <th></th>\n",
       "      <th>MIN_RECORDS_OF_PARENT</th>\n",
       "      <th>MIN_RECORDS_OF_LEAF</th>\n",
       "      <th>RMSE</th>\n",
       "    </tr>\n",
       "  </thead>\n",
       "  <tbody>\n",
       "    <tr>\n",
       "      <th>24</th>\n",
       "      <td>10</td>\n",
       "      <td>1</td>\n",
       "      <td>3015.310106</td>\n",
       "    </tr>\n",
       "    <tr>\n",
       "      <th>20</th>\n",
       "      <td>7</td>\n",
       "      <td>1</td>\n",
       "      <td>3055.063872</td>\n",
       "    </tr>\n",
       "    <tr>\n",
       "      <th>21</th>\n",
       "      <td>7</td>\n",
       "      <td>2</td>\n",
       "      <td>3068.079992</td>\n",
       "    </tr>\n",
       "    <tr>\n",
       "      <th>25</th>\n",
       "      <td>10</td>\n",
       "      <td>2</td>\n",
       "      <td>3072.895843</td>\n",
       "    </tr>\n",
       "    <tr>\n",
       "      <th>26</th>\n",
       "      <td>10</td>\n",
       "      <td>3</td>\n",
       "      <td>3078.565759</td>\n",
       "    </tr>\n",
       "    <tr>\n",
       "      <th>17</th>\n",
       "      <td>5</td>\n",
       "      <td>2</td>\n",
       "      <td>3081.485788</td>\n",
       "    </tr>\n",
       "    <tr>\n",
       "      <th>22</th>\n",
       "      <td>7</td>\n",
       "      <td>3</td>\n",
       "      <td>3087.064269</td>\n",
       "    </tr>\n",
       "    <tr>\n",
       "      <th>18</th>\n",
       "      <td>5</td>\n",
       "      <td>3</td>\n",
       "      <td>3094.472212</td>\n",
       "    </tr>\n",
       "    <tr>\n",
       "      <th>14</th>\n",
       "      <td>4</td>\n",
       "      <td>3</td>\n",
       "      <td>3094.472212</td>\n",
       "    </tr>\n",
       "    <tr>\n",
       "      <th>2</th>\n",
       "      <td>1</td>\n",
       "      <td>3</td>\n",
       "      <td>3094.472212</td>\n",
       "    </tr>\n",
       "  </tbody>\n",
       "</table>\n",
       "</div>"
      ],
      "text/plain": [
       "    MIN_RECORDS_OF_PARENT  MIN_RECORDS_OF_LEAF         RMSE\n",
       "24                     10                    1  3015.310106\n",
       "20                      7                    1  3055.063872\n",
       "21                      7                    2  3068.079992\n",
       "25                     10                    2  3072.895843\n",
       "26                     10                    3  3078.565759\n",
       "17                      5                    2  3081.485788\n",
       "22                      7                    3  3087.064269\n",
       "18                      5                    3  3094.472212\n",
       "14                      4                    3  3094.472212\n",
       "2                       1                    3  3094.472212"
      ]
     },
     "execution_count": 18,
     "metadata": {},
     "output_type": "execute_result"
    }
   ],
   "source": [
    "df_hyper_quality[\"MIN_RECORDS_OF_PARENT\"] = df_hyper_quality[\"MIN_RECORDS_OF_PARENT\"].astype(int)\n",
    "df_hyper_quality[\"MIN_RECORDS_OF_LEAF\"] = df_hyper_quality[\"MIN_RECORDS_OF_LEAF\"].astype(int)\n",
    "df_hyper_quality.sort_values(by=\"RMSE\", ascending=True).head(10)"
   ]
  },
  {
   "cell_type": "code",
   "execution_count": 19,
   "metadata": {},
   "outputs": [],
   "source": [
    "# Reshape data for heatmap\n",
    "df_hyper_matrix = df_hyper_quality.pivot(index=\"MIN_RECORDS_OF_PARENT\", columns=\"MIN_RECORDS_OF_LEAF\", values=\"RMSE\")\n",
    "df_hyper_matrix = df_hyper_matrix.sort_index(axis=0, ascending=False)"
   ]
  },
  {
   "cell_type": "code",
   "execution_count": 20,
   "metadata": {},
   "outputs": [
    {
     "data": {
      "image/png": "[encoded data removed]",
      "text/plain": [
       "<Figure size 432x288 with 2 Axes>"
      ]
     },
     "metadata": {
      "needs_background": "light"
     },
     "output_type": "display_data"
    }
   ],
   "source": [
    "# Plot heatmap on model quality\n",
    "%matplotlib inline \n",
    "import seaborn as sns\n",
    "import matplotlib \n",
    "\n",
    "# Configuration\n",
    "traffic_light = matplotlib.colors.LinearSegmentedColormap.from_list(\"\", [\"green\",\"yellow\",\"red\"])\n",
    "sns.heatmap(df_hyper_matrix, cmap=traffic_light, linewidths=.5, \n",
    "           robust=True, annot=True, fmt=\".1f\", xticklabels=df_hyper_matrix.columns.values.round(2));"
   ]
  },
  {
   "cell_type": "markdown",
   "metadata": {},
   "source": [
    "### Save model to SAP HANA table"
   ]
  },
  {
   "cell_type": "code",
   "execution_count": 21,
   "metadata": {},
   "outputs": [
    {
     "data": {
      "text/plain": [
       "<hana_ml.dataframe.DataFrame at 0x7f5e6184b4e0>"
      ]
     },
     "execution_count": 21,
     "metadata": {},
     "output_type": "execute_result"
    }
   ],
   "source": [
    "model = tree_reg.model_.select('ROW_INDEX', 'MODEL_CONTENT')\n",
    "model.save((\"TAXX\", \"USEDCARPRICES_MODEL_REGTREE\"))"
   ]
  },
  {
   "cell_type": "markdown",
   "metadata": {},
   "source": [
    "### Close connection"
   ]
  },
  {
   "cell_type": "code",
   "execution_count": 22,
   "metadata": {},
   "outputs": [],
   "source": [
    "conn.close()"
   ]
  },
  {
   "cell_type": "code",
   "execution_count": null,
   "metadata": {},
   "outputs": [],
   "source": []
  }
 ],
 "metadata": {
  "createdAt": "2019-05-03T17:24:45Z",
  "description": "Train predictive model on the price of a car.",
  "kernelspec": {
   "display_name": "Python 3",
   "language": "python",
   "name": "python3"
  },
  "language_info": {
   "codemirror_mode": {
    "name": "ipython",
    "version": 3
   },
   "file_extension": ".py",
   "mimetype": "text/x-python",
   "name": "python",
   "nbconvert_exporter": "python",
   "pygments_lexer": "ipython3",
   "version": "3.7.1"
  },
  "modifiedAt": "2019-05-03T17:24:45Z",
  "name": "30 Train Pricing Model",
  "rating": 0,
  "scenarioId": "3bd5ee44-92b1-4224-95dc-4e688a637e85"
 },
 "nbformat": 4,
 "nbformat_minor": 2
}
