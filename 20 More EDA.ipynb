{
 "cells": [
  {
   "cell_type": "markdown",
   "metadata": {},
   "source": [
    "# Estimate car price - More Exploratory Data Analysis\n",
    "\n",
    "### Introduction\n",
    "-  Learn from previous sales of used cars to estimate price of further used vehicles\n",
    "-  Push calculations down to SAP HANA. Leverage the in-memory performance directly out of Python without data extraction.\n",
    "\n",
    "### Documentation\n",
    "-  SAP HANA Python Client API for Machine Learning Algorithms:   \n",
    "   https://help.sap.com/doc/0172e3957b5946da85d3fde85ee8f33d/latest/en-US/html/hana_ml.html\n",
    "-  SAP HANA Predictive Analysis Library (PAL):  \n",
    "   https://help.sap.com/viewer/2cfbc5cf2bc14f028cfbe2a2bba60a50/latest/en-US/f652a8186a144e929a1ade7a3cb7abe8.html\n",
    "-  Dataset: https://www.kaggle.com/bozungu/ebay-used-car-sales-data"
   ]
  },
  {
   "cell_type": "markdown",
   "metadata": {},
   "source": [
    "### Create a HANA DataFrame, which points to the imputed view. The data remains in SAP HANA."
   ]
  },
  {
   "cell_type": "code",
   "execution_count": 1,
   "metadata": {
    "collapsed": true
   },
   "outputs": [],
   "source": [
    "# Obtain logon details from the central Connection Management of SAP Data Intelligence\n",
    "import hana_ml.dataframe as dataframe\n",
    "\n",
    "# Instantiate connection object\n",
    "from notebook_hana_connector.notebook_hana_connector import NotebookConnectionContext\n",
    "conn = NotebookConnectionContext(connectionId='HANADB')\n",
    "\n",
    "# Create the HANA dataframe in the structure of the specified table / view\n",
    "df_pushdown = conn.table(\"USEDCARPRICES_IMP_VIEW\", schema=\"TAXX\")"
   ]
  },
  {
   "cell_type": "markdown",
   "metadata": {},
   "source": [
    "### Peek at the data and retrieve a small number of rows"
   ]
  },
  {
   "cell_type": "code",
   "execution_count": 2,
   "metadata": {},
   "outputs": [
    {
     "data": {
      "text/html": [
       "<div>\n",
       "<style scoped>\n",
       "    .dataframe tbody tr th:only-of-type {\n",
       "        vertical-align: middle;\n",
       "    }\n",
       "\n",
       "    .dataframe tbody tr th {\n",
       "        vertical-align: top;\n",
       "    }\n",
       "\n",
       "    .dataframe thead th {\n",
       "        text-align: right;\n",
       "    }\n",
       "</style>\n",
       "<table border=\"1\" class=\"dataframe\">\n",
       "  <thead>\n",
       "    <tr style=\"text-align: right;\">\n",
       "      <th></th>\n",
       "      <th>GEARBOX_IMP</th>\n",
       "      <th>CAR_ID</th>\n",
       "      <th>VEHICLETYPE</th>\n",
       "      <th>NAME</th>\n",
       "      <th>MODEL</th>\n",
       "      <th>YEAR</th>\n",
       "      <th>HP</th>\n",
       "      <th>FUELTYPE</th>\n",
       "      <th>KILOMETER</th>\n",
       "      <th>DAMAGED</th>\n",
       "      <th>PRICE</th>\n",
       "    </tr>\n",
       "  </thead>\n",
       "  <tbody>\n",
       "    <tr>\n",
       "      <th>0</th>\n",
       "      <td>manual</td>\n",
       "      <td>16</td>\n",
       "      <td>limousine</td>\n",
       "      <td>Mercedes_C_200_Kompressor</td>\n",
       "      <td>C-Class</td>\n",
       "      <td>2000.0</td>\n",
       "      <td>160.0</td>\n",
       "      <td>petrol</td>\n",
       "      <td>150000.0</td>\n",
       "      <td>no</td>\n",
       "      <td>2300.0</td>\n",
       "    </tr>\n",
       "    <tr>\n",
       "      <th>1</th>\n",
       "      <td>manual</td>\n",
       "      <td>69</td>\n",
       "      <td>limousine</td>\n",
       "      <td>C_180_mit_TÜV</td>\n",
       "      <td>C-Class</td>\n",
       "      <td>1995.0</td>\n",
       "      <td>122.0</td>\n",
       "      <td>petrol</td>\n",
       "      <td>150000.0</td>\n",
       "      <td>no</td>\n",
       "      <td>600.0</td>\n",
       "    </tr>\n",
       "    <tr>\n",
       "      <th>2</th>\n",
       "      <td>gearbox unknown</td>\n",
       "      <td>82</td>\n",
       "      <td>limousine</td>\n",
       "      <td>Mercedes_Benz_C_230</td>\n",
       "      <td>C-Class</td>\n",
       "      <td>1996.0</td>\n",
       "      <td>150.0</td>\n",
       "      <td>petrol</td>\n",
       "      <td>150000.0</td>\n",
       "      <td>no</td>\n",
       "      <td>800.0</td>\n",
       "    </tr>\n",
       "  </tbody>\n",
       "</table>\n",
       "</div>"
      ],
      "text/plain": [
       "       GEARBOX_IMP  CAR_ID VEHICLETYPE                       NAME    MODEL  \\\n",
       "0           manual      16   limousine  Mercedes_C_200_Kompressor  C-Class   \n",
       "1           manual      69   limousine              C_180_mit_TÜV  C-Class   \n",
       "2  gearbox unknown      82   limousine        Mercedes_Benz_C_230  C-Class   \n",
       "\n",
       "     YEAR     HP FUELTYPE  KILOMETER DAMAGED   PRICE  \n",
       "0  2000.0  160.0   petrol   150000.0      no  2300.0  \n",
       "1  1995.0  122.0   petrol   150000.0      no   600.0  \n",
       "2  1996.0  150.0   petrol   150000.0      no   800.0  "
      ]
     },
     "execution_count": 2,
     "metadata": {},
     "output_type": "execute_result"
    }
   ],
   "source": [
    "df_pushdown.head(3).collect()"
   ]
  },
  {
   "cell_type": "markdown",
   "metadata": {},
   "source": [
    "### Get row count"
   ]
  },
  {
   "cell_type": "code",
   "execution_count": 3,
   "metadata": {},
   "outputs": [
    {
     "data": {
      "text/plain": [
       "25019"
      ]
     },
     "execution_count": 3,
     "metadata": {},
     "output_type": "execute_result"
    }
   ],
   "source": [
    "df_pushdown.count()"
   ]
  },
  {
   "cell_type": "markdown",
   "metadata": {},
   "source": [
    "### Get column statistics"
   ]
  },
  {
   "cell_type": "code",
   "execution_count": 4,
   "metadata": {},
   "outputs": [
    {
     "data": {
      "text/html": [
       "<div>\n",
       "<style scoped>\n",
       "    .dataframe tbody tr th:only-of-type {\n",
       "        vertical-align: middle;\n",
       "    }\n",
       "\n",
       "    .dataframe tbody tr th {\n",
       "        vertical-align: top;\n",
       "    }\n",
       "\n",
       "    .dataframe thead th {\n",
       "        text-align: right;\n",
       "    }\n",
       "</style>\n",
       "<table border=\"1\" class=\"dataframe\">\n",
       "  <thead>\n",
       "    <tr style=\"text-align: right;\">\n",
       "      <th></th>\n",
       "      <th>column</th>\n",
       "      <th>count</th>\n",
       "      <th>unique</th>\n",
       "      <th>nulls</th>\n",
       "      <th>mean</th>\n",
       "      <th>std</th>\n",
       "      <th>min</th>\n",
       "      <th>max</th>\n",
       "      <th>median</th>\n",
       "      <th>25_percent_cont</th>\n",
       "      <th>25_percent_disc</th>\n",
       "      <th>50_percent_cont</th>\n",
       "      <th>50_percent_disc</th>\n",
       "      <th>75_percent_cont</th>\n",
       "      <th>75_percent_disc</th>\n",
       "    </tr>\n",
       "  </thead>\n",
       "  <tbody>\n",
       "    <tr>\n",
       "      <th>0</th>\n",
       "      <td>CAR_ID</td>\n",
       "      <td>25019</td>\n",
       "      <td>25019</td>\n",
       "      <td>0</td>\n",
       "      <td>13424.032415</td>\n",
       "      <td>7776.415290</td>\n",
       "      <td>0.0</td>\n",
       "      <td>26899.0</td>\n",
       "      <td>13390.0</td>\n",
       "      <td>6691.5</td>\n",
       "      <td>6691.0</td>\n",
       "      <td>13390.0</td>\n",
       "      <td>13390.0</td>\n",
       "      <td>20156.5</td>\n",
       "      <td>20157.0</td>\n",
       "    </tr>\n",
       "    <tr>\n",
       "      <th>1</th>\n",
       "      <td>YEAR</td>\n",
       "      <td>25019</td>\n",
       "      <td>67</td>\n",
       "      <td>0</td>\n",
       "      <td>2002.468244</td>\n",
       "      <td>7.290506</td>\n",
       "      <td>1910.0</td>\n",
       "      <td>2016.0</td>\n",
       "      <td>2003.0</td>\n",
       "      <td>1999.0</td>\n",
       "      <td>1999.0</td>\n",
       "      <td>2003.0</td>\n",
       "      <td>2003.0</td>\n",
       "      <td>2007.0</td>\n",
       "      <td>2007.0</td>\n",
       "    </tr>\n",
       "    <tr>\n",
       "      <th>2</th>\n",
       "      <td>HP</td>\n",
       "      <td>25019</td>\n",
       "      <td>298</td>\n",
       "      <td>0</td>\n",
       "      <td>165.297894</td>\n",
       "      <td>181.967244</td>\n",
       "      <td>0.0</td>\n",
       "      <td>20000.0</td>\n",
       "      <td>150.0</td>\n",
       "      <td>122.0</td>\n",
       "      <td>122.0</td>\n",
       "      <td>150.0</td>\n",
       "      <td>150.0</td>\n",
       "      <td>197.0</td>\n",
       "      <td>197.0</td>\n",
       "    </tr>\n",
       "    <tr>\n",
       "      <th>3</th>\n",
       "      <td>KILOMETER</td>\n",
       "      <td>25019</td>\n",
       "      <td>13</td>\n",
       "      <td>0</td>\n",
       "      <td>128822.295056</td>\n",
       "      <td>36844.260846</td>\n",
       "      <td>5000.0</td>\n",
       "      <td>150000.0</td>\n",
       "      <td>150000.0</td>\n",
       "      <td>125000.0</td>\n",
       "      <td>125000.0</td>\n",
       "      <td>150000.0</td>\n",
       "      <td>150000.0</td>\n",
       "      <td>150000.0</td>\n",
       "      <td>150000.0</td>\n",
       "    </tr>\n",
       "    <tr>\n",
       "      <th>4</th>\n",
       "      <td>PRICE</td>\n",
       "      <td>25019</td>\n",
       "      <td>1936</td>\n",
       "      <td>0</td>\n",
       "      <td>10343.689076</td>\n",
       "      <td>89273.425129</td>\n",
       "      <td>0.0</td>\n",
       "      <td>14000500.0</td>\n",
       "      <td>6399.0</td>\n",
       "      <td>2900.0</td>\n",
       "      <td>2900.0</td>\n",
       "      <td>6399.0</td>\n",
       "      <td>6399.0</td>\n",
       "      <td>13000.0</td>\n",
       "      <td>13000.0</td>\n",
       "    </tr>\n",
       "    <tr>\n",
       "      <th>5</th>\n",
       "      <td>GEARBOX_IMP</td>\n",
       "      <td>25019</td>\n",
       "      <td>3</td>\n",
       "      <td>0</td>\n",
       "      <td>NaN</td>\n",
       "      <td>NaN</td>\n",
       "      <td>NaN</td>\n",
       "      <td>NaN</td>\n",
       "      <td>NaN</td>\n",
       "      <td>NaN</td>\n",
       "      <td>NaN</td>\n",
       "      <td>NaN</td>\n",
       "      <td>NaN</td>\n",
       "      <td>NaN</td>\n",
       "      <td>NaN</td>\n",
       "    </tr>\n",
       "    <tr>\n",
       "      <th>6</th>\n",
       "      <td>VEHICLETYPE</td>\n",
       "      <td>25019</td>\n",
       "      <td>8</td>\n",
       "      <td>0</td>\n",
       "      <td>NaN</td>\n",
       "      <td>NaN</td>\n",
       "      <td>NaN</td>\n",
       "      <td>NaN</td>\n",
       "      <td>NaN</td>\n",
       "      <td>NaN</td>\n",
       "      <td>NaN</td>\n",
       "      <td>NaN</td>\n",
       "      <td>NaN</td>\n",
       "      <td>NaN</td>\n",
       "      <td>NaN</td>\n",
       "    </tr>\n",
       "    <tr>\n",
       "      <th>7</th>\n",
       "      <td>NAME</td>\n",
       "      <td>25019</td>\n",
       "      <td>13933</td>\n",
       "      <td>0</td>\n",
       "      <td>NaN</td>\n",
       "      <td>NaN</td>\n",
       "      <td>NaN</td>\n",
       "      <td>NaN</td>\n",
       "      <td>NaN</td>\n",
       "      <td>NaN</td>\n",
       "      <td>NaN</td>\n",
       "      <td>NaN</td>\n",
       "      <td>NaN</td>\n",
       "      <td>NaN</td>\n",
       "      <td>NaN</td>\n",
       "    </tr>\n",
       "    <tr>\n",
       "      <th>8</th>\n",
       "      <td>MODEL</td>\n",
       "      <td>25019</td>\n",
       "      <td>18</td>\n",
       "      <td>0</td>\n",
       "      <td>NaN</td>\n",
       "      <td>NaN</td>\n",
       "      <td>NaN</td>\n",
       "      <td>NaN</td>\n",
       "      <td>NaN</td>\n",
       "      <td>NaN</td>\n",
       "      <td>NaN</td>\n",
       "      <td>NaN</td>\n",
       "      <td>NaN</td>\n",
       "      <td>NaN</td>\n",
       "      <td>NaN</td>\n",
       "    </tr>\n",
       "    <tr>\n",
       "      <th>9</th>\n",
       "      <td>FUELTYPE</td>\n",
       "      <td>25019</td>\n",
       "      <td>7</td>\n",
       "      <td>0</td>\n",
       "      <td>NaN</td>\n",
       "      <td>NaN</td>\n",
       "      <td>NaN</td>\n",
       "      <td>NaN</td>\n",
       "      <td>NaN</td>\n",
       "      <td>NaN</td>\n",
       "      <td>NaN</td>\n",
       "      <td>NaN</td>\n",
       "      <td>NaN</td>\n",
       "      <td>NaN</td>\n",
       "      <td>NaN</td>\n",
       "    </tr>\n",
       "    <tr>\n",
       "      <th>10</th>\n",
       "      <td>DAMAGED</td>\n",
       "      <td>25019</td>\n",
       "      <td>1</td>\n",
       "      <td>0</td>\n",
       "      <td>NaN</td>\n",
       "      <td>NaN</td>\n",
       "      <td>NaN</td>\n",
       "      <td>NaN</td>\n",
       "      <td>NaN</td>\n",
       "      <td>NaN</td>\n",
       "      <td>NaN</td>\n",
       "      <td>NaN</td>\n",
       "      <td>NaN</td>\n",
       "      <td>NaN</td>\n",
       "      <td>NaN</td>\n",
       "    </tr>\n",
       "  </tbody>\n",
       "</table>\n",
       "</div>"
      ],
      "text/plain": [
       "         column  count  unique  nulls           mean           std     min  \\\n",
       "0        CAR_ID  25019   25019      0   13424.032415   7776.415290     0.0   \n",
       "1          YEAR  25019      67      0    2002.468244      7.290506  1910.0   \n",
       "2            HP  25019     298      0     165.297894    181.967244     0.0   \n",
       "3     KILOMETER  25019      13      0  128822.295056  36844.260846  5000.0   \n",
       "4         PRICE  25019    1936      0   10343.689076  89273.425129     0.0   \n",
       "5   GEARBOX_IMP  25019       3      0            NaN           NaN     NaN   \n",
       "6   VEHICLETYPE  25019       8      0            NaN           NaN     NaN   \n",
       "7          NAME  25019   13933      0            NaN           NaN     NaN   \n",
       "8         MODEL  25019      18      0            NaN           NaN     NaN   \n",
       "9      FUELTYPE  25019       7      0            NaN           NaN     NaN   \n",
       "10      DAMAGED  25019       1      0            NaN           NaN     NaN   \n",
       "\n",
       "           max    median  25_percent_cont  25_percent_disc  50_percent_cont  \\\n",
       "0      26899.0   13390.0           6691.5           6691.0          13390.0   \n",
       "1       2016.0    2003.0           1999.0           1999.0           2003.0   \n",
       "2      20000.0     150.0            122.0            122.0            150.0   \n",
       "3     150000.0  150000.0         125000.0         125000.0         150000.0   \n",
       "4   14000500.0    6399.0           2900.0           2900.0           6399.0   \n",
       "5          NaN       NaN              NaN              NaN              NaN   \n",
       "6          NaN       NaN              NaN              NaN              NaN   \n",
       "7          NaN       NaN              NaN              NaN              NaN   \n",
       "8          NaN       NaN              NaN              NaN              NaN   \n",
       "9          NaN       NaN              NaN              NaN              NaN   \n",
       "10         NaN       NaN              NaN              NaN              NaN   \n",
       "\n",
       "    50_percent_disc  75_percent_cont  75_percent_disc  \n",
       "0           13390.0          20156.5          20157.0  \n",
       "1            2003.0           2007.0           2007.0  \n",
       "2             150.0            197.0            197.0  \n",
       "3          150000.0         150000.0         150000.0  \n",
       "4            6399.0          13000.0          13000.0  \n",
       "5               NaN              NaN              NaN  \n",
       "6               NaN              NaN              NaN  \n",
       "7               NaN              NaN              NaN  \n",
       "8               NaN              NaN              NaN  \n",
       "9               NaN              NaN              NaN  \n",
       "10              NaN              NaN              NaN  "
      ]
     },
     "execution_count": 4,
     "metadata": {},
     "output_type": "execute_result"
    }
   ],
   "source": [
    "df_pushdown.describe().collect()"
   ]
  },
  {
   "cell_type": "markdown",
   "metadata": {},
   "source": [
    "### Category frequency by Model"
   ]
  },
  {
   "cell_type": "code",
   "execution_count": 5,
   "metadata": {},
   "outputs": [
    {
     "name": "stdout",
     "output_type": "stream",
     "text": [
      "     MODEL  COUNT\n",
      "0  C-Class   6509\n",
      "1  E-Class   5366\n",
      "2  A-Class   2867\n",
      "3    Other   2618\n",
      "4      CLK   1377\n"
     ]
    }
   ],
   "source": [
    "top_n = 5\n",
    "\n",
    "# Get Top N categories\n",
    "df_pushdown_col_frequency = df_pushdown.agg([('count', 'MODEL', 'COUNT')],  group_by='MODEL')\n",
    "df_col_frequency = df_pushdown_col_frequency.sort(\"COUNT\", desc=True).head(top_n).collect()\n",
    "print(df_col_frequency)"
   ]
  },
  {
   "cell_type": "code",
   "execution_count": 6,
   "metadata": {},
   "outputs": [
    {
     "data": {
      "image/png": "[encoded data removed]",
      "text/plain": [
       "<Figure size 432x288 with 1 Axes>"
      ]
     },
     "metadata": {
      "needs_background": "light"
     },
     "output_type": "display_data"
    }
   ],
   "source": [
    "%matplotlib inline \n",
    "df_col_frequency.plot.bar(x='MODEL', y=\"COUNT\", title=\"Top \" + str(top_n));"
   ]
  },
  {
   "cell_type": "markdown",
   "metadata": {},
   "source": [
    "### Inspect price against year on sample data"
   ]
  },
  {
   "cell_type": "code",
   "execution_count": 10,
   "metadata": {},
   "outputs": [],
   "source": [
    "#!pip install seaborn"
   ]
  },
  {
   "cell_type": "code",
   "execution_count": 11,
   "metadata": {},
   "outputs": [
    {
     "data": {
      "image/png": "[encoded data removed]",
      "text/plain": [
       "<Figure size 432x432 with 3 Axes>"
      ]
     },
     "metadata": {
      "needs_background": "light"
     },
     "output_type": "display_data"
    }
   ],
   "source": [
    "# Scatterplot\n",
    "n_sample_size = 500\n",
    "col_name_1 = 'PRICE'\n",
    "col_name_2 = 'YEAR'\n",
    "\n",
    "# Sort on the random columna and retrieve the sample to a local DataFrame\n",
    "df_pushdown_sample = df_pushdown.select(df_pushdown.columns, ('RAND()', 'RAND'))\n",
    "df_sample = df_pushdown_sample.sort(\"RAND\", desc=True).select(col_name_1, col_name_2).head(n_sample_size).collect()\n",
    "\n",
    "import seaborn as sns\n",
    "sns.jointplot(x=col_name_1, y=col_name_2, data=df_sample);"
   ]
  },
  {
   "cell_type": "markdown",
   "metadata": {},
   "source": [
    "### Display outliers"
   ]
  },
  {
   "cell_type": "code",
   "execution_count": 12,
   "metadata": {},
   "outputs": [
    {
     "data": {
      "text/html": [
       "<div>\n",
       "<style scoped>\n",
       "    .dataframe tbody tr th:only-of-type {\n",
       "        vertical-align: middle;\n",
       "    }\n",
       "\n",
       "    .dataframe tbody tr th {\n",
       "        vertical-align: top;\n",
       "    }\n",
       "\n",
       "    .dataframe thead th {\n",
       "        text-align: right;\n",
       "    }\n",
       "</style>\n",
       "<table border=\"1\" class=\"dataframe\">\n",
       "  <thead>\n",
       "    <tr style=\"text-align: right;\">\n",
       "      <th></th>\n",
       "      <th>GEARBOX_IMP</th>\n",
       "      <th>CAR_ID</th>\n",
       "      <th>VEHICLETYPE</th>\n",
       "      <th>NAME</th>\n",
       "      <th>MODEL</th>\n",
       "      <th>YEAR</th>\n",
       "      <th>HP</th>\n",
       "      <th>FUELTYPE</th>\n",
       "      <th>KILOMETER</th>\n",
       "      <th>DAMAGED</th>\n",
       "      <th>PRICE</th>\n",
       "    </tr>\n",
       "  </thead>\n",
       "  <tbody>\n",
       "    <tr>\n",
       "      <th>0</th>\n",
       "      <td>automatic</td>\n",
       "      <td>20301</td>\n",
       "      <td>coupe</td>\n",
       "      <td>Mercedes_Benz_CLK_Coupe_280_7G_TRONIC_Sport_Av...</td>\n",
       "      <td>CLK</td>\n",
       "      <td>2008.0</td>\n",
       "      <td>231.0</td>\n",
       "      <td>petrol</td>\n",
       "      <td>125000.0</td>\n",
       "      <td>no</td>\n",
       "      <td>14000500.0</td>\n",
       "    </tr>\n",
       "    <tr>\n",
       "      <th>1</th>\n",
       "      <td>manual</td>\n",
       "      <td>9924</td>\n",
       "      <td>cabrio</td>\n",
       "      <td>Mercedes_Benz_300_d_Cabriolet__W189_</td>\n",
       "      <td>Other</td>\n",
       "      <td>1960.0</td>\n",
       "      <td>160.0</td>\n",
       "      <td>petrol</td>\n",
       "      <td>5000.0</td>\n",
       "      <td>no</td>\n",
       "      <td>585000.0</td>\n",
       "    </tr>\n",
       "    <tr>\n",
       "      <th>2</th>\n",
       "      <td>automatic</td>\n",
       "      <td>24460</td>\n",
       "      <td>cabrio</td>\n",
       "      <td>Mercedes_Benz_SLR_McLaren_Roadster</td>\n",
       "      <td>Other</td>\n",
       "      <td>2010.0</td>\n",
       "      <td>625.0</td>\n",
       "      <td>petrol</td>\n",
       "      <td>30000.0</td>\n",
       "      <td>no</td>\n",
       "      <td>368000.0</td>\n",
       "    </tr>\n",
       "    <tr>\n",
       "      <th>3</th>\n",
       "      <td>automatic</td>\n",
       "      <td>24002</td>\n",
       "      <td>limousine</td>\n",
       "      <td>Mercedes_Benz_C_63_AMG_7G_TRONIC</td>\n",
       "      <td>C-Class</td>\n",
       "      <td>2009.0</td>\n",
       "      <td>457.0</td>\n",
       "      <td>petrol</td>\n",
       "      <td>100000.0</td>\n",
       "      <td>no</td>\n",
       "      <td>350000.0</td>\n",
       "    </tr>\n",
       "    <tr>\n",
       "      <th>4</th>\n",
       "      <td>automatic</td>\n",
       "      <td>15944</td>\n",
       "      <td>cabrio</td>\n",
       "      <td>Mercedes_Benz_SLS_AMG_Roadster_AMG_SPEEDSHIFT_DCT</td>\n",
       "      <td>Other</td>\n",
       "      <td>2013.0</td>\n",
       "      <td>571.0</td>\n",
       "      <td>petrol</td>\n",
       "      <td>10000.0</td>\n",
       "      <td>no</td>\n",
       "      <td>237500.0</td>\n",
       "    </tr>\n",
       "    <tr>\n",
       "      <th>5</th>\n",
       "      <td>automatic</td>\n",
       "      <td>8778</td>\n",
       "      <td>coupe</td>\n",
       "      <td>Mercedes_Benz_SLS_AMG_Coupe_Flechtleder_B&amp;O_1....</td>\n",
       "      <td>Other</td>\n",
       "      <td>2010.0</td>\n",
       "      <td>571.0</td>\n",
       "      <td>petrol</td>\n",
       "      <td>10000.0</td>\n",
       "      <td>no</td>\n",
       "      <td>225000.0</td>\n",
       "    </tr>\n",
       "    <tr>\n",
       "      <th>6</th>\n",
       "      <td>automatic</td>\n",
       "      <td>6361</td>\n",
       "      <td>coupe</td>\n",
       "      <td>Mercedes_Benz_SLS_AMG_Coupe_AMG_SPEEDSHIFT_DCT</td>\n",
       "      <td>Other</td>\n",
       "      <td>2010.0</td>\n",
       "      <td>571.0</td>\n",
       "      <td>petrol</td>\n",
       "      <td>50000.0</td>\n",
       "      <td>no</td>\n",
       "      <td>214800.0</td>\n",
       "    </tr>\n",
       "    <tr>\n",
       "      <th>7</th>\n",
       "      <td>automatic</td>\n",
       "      <td>10476</td>\n",
       "      <td>coupe</td>\n",
       "      <td>Mercedes_Benz_SLS_AMG_Coupe_Alubeam_1._Hand</td>\n",
       "      <td>Other</td>\n",
       "      <td>2011.0</td>\n",
       "      <td>571.0</td>\n",
       "      <td>petrol</td>\n",
       "      <td>50000.0</td>\n",
       "      <td>no</td>\n",
       "      <td>205000.0</td>\n",
       "    </tr>\n",
       "    <tr>\n",
       "      <th>8</th>\n",
       "      <td>manual</td>\n",
       "      <td>23090</td>\n",
       "      <td>cabrio</td>\n",
       "      <td>Mercedes_Benz_300_Adenauer_Cabrio</td>\n",
       "      <td>Other</td>\n",
       "      <td>1952.0</td>\n",
       "      <td>116.0</td>\n",
       "      <td>petrol</td>\n",
       "      <td>100000.0</td>\n",
       "      <td>no</td>\n",
       "      <td>205000.0</td>\n",
       "    </tr>\n",
       "  </tbody>\n",
       "</table>\n",
       "</div>"
      ],
      "text/plain": [
       "  GEARBOX_IMP  CAR_ID VEHICLETYPE  \\\n",
       "0   automatic   20301       coupe   \n",
       "1      manual    9924      cabrio   \n",
       "2   automatic   24460      cabrio   \n",
       "3   automatic   24002   limousine   \n",
       "4   automatic   15944      cabrio   \n",
       "5   automatic    8778       coupe   \n",
       "6   automatic    6361       coupe   \n",
       "7   automatic   10476       coupe   \n",
       "8      manual   23090      cabrio   \n",
       "\n",
       "                                                NAME    MODEL    YEAR     HP  \\\n",
       "0  Mercedes_Benz_CLK_Coupe_280_7G_TRONIC_Sport_Av...      CLK  2008.0  231.0   \n",
       "1               Mercedes_Benz_300_d_Cabriolet__W189_    Other  1960.0  160.0   \n",
       "2                 Mercedes_Benz_SLR_McLaren_Roadster    Other  2010.0  625.0   \n",
       "3                   Mercedes_Benz_C_63_AMG_7G_TRONIC  C-Class  2009.0  457.0   \n",
       "4  Mercedes_Benz_SLS_AMG_Roadster_AMG_SPEEDSHIFT_DCT    Other  2013.0  571.0   \n",
       "5  Mercedes_Benz_SLS_AMG_Coupe_Flechtleder_B&O_1....    Other  2010.0  571.0   \n",
       "6     Mercedes_Benz_SLS_AMG_Coupe_AMG_SPEEDSHIFT_DCT    Other  2010.0  571.0   \n",
       "7        Mercedes_Benz_SLS_AMG_Coupe_Alubeam_1._Hand    Other  2011.0  571.0   \n",
       "8                  Mercedes_Benz_300_Adenauer_Cabrio    Other  1952.0  116.0   \n",
       "\n",
       "  FUELTYPE  KILOMETER DAMAGED       PRICE  \n",
       "0   petrol   125000.0      no  14000500.0  \n",
       "1   petrol     5000.0      no    585000.0  \n",
       "2   petrol    30000.0      no    368000.0  \n",
       "3   petrol   100000.0      no    350000.0  \n",
       "4   petrol    10000.0      no    237500.0  \n",
       "5   petrol    10000.0      no    225000.0  \n",
       "6   petrol    50000.0      no    214800.0  \n",
       "7   petrol    50000.0      no    205000.0  \n",
       "8   petrol   100000.0      no    205000.0  "
      ]
     },
     "execution_count": 12,
     "metadata": {},
     "output_type": "execute_result"
    }
   ],
   "source": [
    "# Display most expensive vehicles\n",
    "df_pushdown.filter('\"PRICE\" > 200000').sort(\"PRICE\", desc=True).collect()"
   ]
  },
  {
   "cell_type": "markdown",
   "metadata": {},
   "source": [
    "### Save outliers to file"
   ]
  },
  {
   "cell_type": "code",
   "execution_count": 13,
   "metadata": {
    "collapsed": true
   },
   "outputs": [],
   "source": [
    "# Retrieve the data into a local dataframe\n",
    "df_outliers = df_pushdown.filter('\"PRICE\" > 200000').sort(\"PRICE\", desc=True).collect()\n",
    "df_outliers.to_csv(\"most_expensive_cars.csv\", sep=\";\" ,  index = False)"
   ]
  },
  {
   "cell_type": "markdown",
   "metadata": {},
   "source": [
    "### Obtain specific percentile"
   ]
  },
  {
   "cell_type": "code",
   "execution_count": 14,
   "metadata": {},
   "outputs": [
    {
     "name": "stdout",
     "output_type": "stream",
     "text": [
      "1500.0\n"
     ]
    }
   ],
   "source": [
    "# Hardcoded\n",
    "sql = 'SELECT PERCENTILE_CONT(0.1) WITHIN GROUP (ORDER BY PRICE ASC) FROM TAXX.USEDCARPRICES_IMP_VIEW'\n",
    "df_pushdown_percentile = conn.sql(sql)\n",
    "df_temp = df_pushdown_percentile.collect()\n",
    "print(float(df_temp.iloc[0:,0]))"
   ]
  },
  {
   "cell_type": "code",
   "execution_count": 15,
   "metadata": {},
   "outputs": [
    {
     "name": "stdout",
     "output_type": "stream",
     "text": [
      "1500.0\n"
     ]
    }
   ],
   "source": [
    "# Parameterised\n",
    "schemaName = 'TAXX'\n",
    "tableName = 'USEDCARPRICES_IMP_VIEW'\n",
    "columnName = 'PRICE'\n",
    "percentile = 0.1\n",
    "\n",
    "sql = ('SELECT PERCENTILE_CONT(' + str(percentile) +') WITHIN GROUP (ORDER BY ' + columnName + ' ASC) ' +\n",
    "       ' FROM ' + schemaName + '.' + tableName )\n",
    "df_pushdown_percentile = conn.sql(sql)\n",
    "df_temp = df_pushdown_percentile.collect()\n",
    "print(float(df_temp.iloc[0:,0]))"
   ]
  },
  {
   "cell_type": "markdown",
   "metadata": {},
   "source": [
    "### Obtain wider range of percentiles"
   ]
  },
  {
   "cell_type": "code",
   "execution_count": 16,
   "metadata": {},
   "outputs": [],
   "source": [
    "import pandas as pd\n",
    "import numpy as np\n",
    "\n",
    "schemaName = 'TAXX'\n",
    "tableName = 'USEDCARPRICES_IMP_VIEW'\n",
    "columnName = 'PRICE'\n",
    "df_percentiles = pd.DataFrame(columns=['PERCENTILE', 'VALUE'])\n",
    "\n",
    "step = 5\n",
    "for i in range(0, 100 + step, step):\n",
    "    percentile = i / 100\n",
    "    sql = ('SELECT PERCENTILE_CONT(' + str(percentile) +') WITHIN GROUP (ORDER BY ' + columnName + ' ASC) ' +\n",
    "       ' FROM ' + schemaName + '.' + tableName )\n",
    "    \n",
    "    df_pushdown_percentile = conn.sql(sql)\n",
    "    df_temp = df_pushdown_percentile.collect()\n",
    "    percentile_value = round(float(df_temp.iloc[0:,0]), 2)\n",
    "    df_percentiles = df_percentiles.append({'PERCENTILE': percentile, 'VALUE': percentile_value}, ignore_index = True)"
   ]
  },
  {
   "cell_type": "code",
   "execution_count": 17,
   "metadata": {},
   "outputs": [
    {
     "data": {
      "text/html": [
       "<div>\n",
       "<style scoped>\n",
       "    .dataframe tbody tr th:only-of-type {\n",
       "        vertical-align: middle;\n",
       "    }\n",
       "\n",
       "    .dataframe tbody tr th {\n",
       "        vertical-align: top;\n",
       "    }\n",
       "\n",
       "    .dataframe thead th {\n",
       "        text-align: right;\n",
       "    }\n",
       "</style>\n",
       "<table border=\"1\" class=\"dataframe\">\n",
       "  <thead>\n",
       "    <tr style=\"text-align: right;\">\n",
       "      <th></th>\n",
       "      <th>PERCENTILE</th>\n",
       "      <th>VALUE</th>\n",
       "    </tr>\n",
       "  </thead>\n",
       "  <tbody>\n",
       "    <tr>\n",
       "      <th>0</th>\n",
       "      <td>0.00</td>\n",
       "      <td>0.0</td>\n",
       "    </tr>\n",
       "    <tr>\n",
       "      <th>1</th>\n",
       "      <td>0.05</td>\n",
       "      <td>1000.0</td>\n",
       "    </tr>\n",
       "    <tr>\n",
       "      <th>2</th>\n",
       "      <td>0.10</td>\n",
       "      <td>1500.0</td>\n",
       "    </tr>\n",
       "    <tr>\n",
       "      <th>3</th>\n",
       "      <td>0.15</td>\n",
       "      <td>1940.0</td>\n",
       "    </tr>\n",
       "    <tr>\n",
       "      <th>4</th>\n",
       "      <td>0.20</td>\n",
       "      <td>2400.0</td>\n",
       "    </tr>\n",
       "    <tr>\n",
       "      <th>5</th>\n",
       "      <td>0.25</td>\n",
       "      <td>2900.0</td>\n",
       "    </tr>\n",
       "    <tr>\n",
       "      <th>6</th>\n",
       "      <td>0.30</td>\n",
       "      <td>3499.0</td>\n",
       "    </tr>\n",
       "    <tr>\n",
       "      <th>7</th>\n",
       "      <td>0.35</td>\n",
       "      <td>3999.0</td>\n",
       "    </tr>\n",
       "    <tr>\n",
       "      <th>8</th>\n",
       "      <td>0.40</td>\n",
       "      <td>4799.0</td>\n",
       "    </tr>\n",
       "    <tr>\n",
       "      <th>9</th>\n",
       "      <td>0.45</td>\n",
       "      <td>5500.0</td>\n",
       "    </tr>\n",
       "    <tr>\n",
       "      <th>10</th>\n",
       "      <td>0.50</td>\n",
       "      <td>6399.0</td>\n",
       "    </tr>\n",
       "    <tr>\n",
       "      <th>11</th>\n",
       "      <td>0.55</td>\n",
       "      <td>7200.0</td>\n",
       "    </tr>\n",
       "    <tr>\n",
       "      <th>12</th>\n",
       "      <td>0.60</td>\n",
       "      <td>8274.0</td>\n",
       "    </tr>\n",
       "    <tr>\n",
       "      <th>13</th>\n",
       "      <td>0.65</td>\n",
       "      <td>9650.0</td>\n",
       "    </tr>\n",
       "    <tr>\n",
       "      <th>14</th>\n",
       "      <td>0.70</td>\n",
       "      <td>11250.0</td>\n",
       "    </tr>\n",
       "    <tr>\n",
       "      <th>15</th>\n",
       "      <td>0.75</td>\n",
       "      <td>13000.0</td>\n",
       "    </tr>\n",
       "    <tr>\n",
       "      <th>16</th>\n",
       "      <td>0.80</td>\n",
       "      <td>15500.0</td>\n",
       "    </tr>\n",
       "    <tr>\n",
       "      <th>17</th>\n",
       "      <td>0.85</td>\n",
       "      <td>18114.7</td>\n",
       "    </tr>\n",
       "    <tr>\n",
       "      <th>18</th>\n",
       "      <td>0.90</td>\n",
       "      <td>21995.8</td>\n",
       "    </tr>\n",
       "    <tr>\n",
       "      <th>19</th>\n",
       "      <td>0.95</td>\n",
       "      <td>28000.0</td>\n",
       "    </tr>\n",
       "    <tr>\n",
       "      <th>20</th>\n",
       "      <td>1.00</td>\n",
       "      <td>14000500.0</td>\n",
       "    </tr>\n",
       "  </tbody>\n",
       "</table>\n",
       "</div>"
      ],
      "text/plain": [
       "    PERCENTILE       VALUE\n",
       "0         0.00         0.0\n",
       "1         0.05      1000.0\n",
       "2         0.10      1500.0\n",
       "3         0.15      1940.0\n",
       "4         0.20      2400.0\n",
       "5         0.25      2900.0\n",
       "6         0.30      3499.0\n",
       "7         0.35      3999.0\n",
       "8         0.40      4799.0\n",
       "9         0.45      5500.0\n",
       "10        0.50      6399.0\n",
       "11        0.55      7200.0\n",
       "12        0.60      8274.0\n",
       "13        0.65      9650.0\n",
       "14        0.70     11250.0\n",
       "15        0.75     13000.0\n",
       "16        0.80     15500.0\n",
       "17        0.85     18114.7\n",
       "18        0.90     21995.8\n",
       "19        0.95     28000.0\n",
       "20        1.00  14000500.0"
      ]
     },
     "execution_count": 17,
     "metadata": {},
     "output_type": "execute_result"
    }
   ],
   "source": [
    "# Display percentiles\n",
    "df_percentiles"
   ]
  },
  {
   "cell_type": "code",
   "execution_count": 18,
   "metadata": {},
   "outputs": [
    {
     "data": {
      "image/png": "[encoded data removed]",
      "text/plain": [
       "<Figure size 432x288 with 1 Axes>"
      ]
     },
     "metadata": {
      "needs_background": "light"
     },
     "output_type": "display_data"
    }
   ],
   "source": [
    "# Plot percentiles\n",
    "import matplotlib.pyplot as plt\n",
    "lines = df_percentiles.plot.line(x='PERCENTILE', y='VALUE')"
   ]
  },
  {
   "cell_type": "markdown",
   "metadata": {},
   "source": [
    "### Filter on cars built from the year 2000 onwards costing under 50k Euro"
   ]
  },
  {
   "cell_type": "code",
   "execution_count": 19,
   "metadata": {},
   "outputs": [
    {
     "data": {
      "text/plain": [
       "18333"
      ]
     },
     "execution_count": 19,
     "metadata": {},
     "output_type": "execute_result"
    }
   ],
   "source": [
    "df_pushdown = df_pushdown.filter('\"YEAR\" >= 2000')\n",
    "df_pushdown = df_pushdown.filter('\"PRICE\" < 50000')\n",
    "df_pushdown.count()"
   ]
  },
  {
   "cell_type": "markdown",
   "metadata": {},
   "source": [
    "### Correlations"
   ]
  },
  {
   "cell_type": "code",
   "execution_count": 20,
   "metadata": {},
   "outputs": [
    {
     "name": "stdout",
     "output_type": "stream",
     "text": [
      "Numerical columns: ['YEAR', 'HP', 'KILOMETER', 'PRICE']\n"
     ]
    }
   ],
   "source": [
    "# Get list of numerical columns for full correlation matrix\n",
    "import numpy as np\n",
    "# Get  names of numeric columns\n",
    "numeric_cols = []\n",
    "all_cols = df_pushdown.drop([\"CAR_ID\"]).columns\n",
    "for col_name in all_cols:\n",
    "    if df_pushdown.is_numeric(col_name):\n",
    "        numeric_cols.append(col_name)\n",
    "print(\"Numerical columns: \" + str(numeric_cols))"
   ]
  },
  {
   "cell_type": "code",
   "execution_count": 21,
   "metadata": {},
   "outputs": [
    {
     "data": {
      "text/html": [
       "<div>\n",
       "<style scoped>\n",
       "    .dataframe tbody tr th:only-of-type {\n",
       "        vertical-align: middle;\n",
       "    }\n",
       "\n",
       "    .dataframe tbody tr th {\n",
       "        vertical-align: top;\n",
       "    }\n",
       "\n",
       "    .dataframe thead th {\n",
       "        text-align: right;\n",
       "    }\n",
       "</style>\n",
       "<table border=\"1\" class=\"dataframe\">\n",
       "  <thead>\n",
       "    <tr style=\"text-align: right;\">\n",
       "      <th></th>\n",
       "      <th>ID</th>\n",
       "      <th>YEAR</th>\n",
       "      <th>HP</th>\n",
       "      <th>KILOMETER</th>\n",
       "      <th>PRICE</th>\n",
       "    </tr>\n",
       "  </thead>\n",
       "  <tbody>\n",
       "    <tr>\n",
       "      <th>0</th>\n",
       "      <td>YEAR</td>\n",
       "      <td>1.000000</td>\n",
       "      <td>0.096238</td>\n",
       "      <td>-0.536630</td>\n",
       "      <td>0.750964</td>\n",
       "    </tr>\n",
       "    <tr>\n",
       "      <th>1</th>\n",
       "      <td>HP</td>\n",
       "      <td>0.096238</td>\n",
       "      <td>1.000000</td>\n",
       "      <td>-0.023013</td>\n",
       "      <td>0.298412</td>\n",
       "    </tr>\n",
       "    <tr>\n",
       "      <th>2</th>\n",
       "      <td>KILOMETER</td>\n",
       "      <td>-0.536630</td>\n",
       "      <td>-0.023013</td>\n",
       "      <td>1.000000</td>\n",
       "      <td>-0.545549</td>\n",
       "    </tr>\n",
       "    <tr>\n",
       "      <th>3</th>\n",
       "      <td>PRICE</td>\n",
       "      <td>0.750964</td>\n",
       "      <td>0.298412</td>\n",
       "      <td>-0.545549</td>\n",
       "      <td>1.000000</td>\n",
       "    </tr>\n",
       "  </tbody>\n",
       "</table>\n",
       "</div>"
      ],
      "text/plain": [
       "          ID      YEAR        HP  KILOMETER     PRICE\n",
       "0       YEAR  1.000000  0.096238  -0.536630  0.750964\n",
       "1         HP  0.096238  1.000000  -0.023013  0.298412\n",
       "2  KILOMETER -0.536630 -0.023013   1.000000 -0.545549\n",
       "3      PRICE  0.750964  0.298412  -0.545549  1.000000"
      ]
     },
     "execution_count": 21,
     "metadata": {},
     "output_type": "execute_result"
    }
   ],
   "source": [
    "# Calculate correlation matrix for all numerical columns\n",
    "from hana_ml.algorithms.pal import stats\n",
    "df_corr_matrix = stats.pearsonr_matrix(conn, df_pushdown, cols=numeric_cols).collect() \n",
    "df_corr_matrix"
   ]
  },
  {
   "cell_type": "code",
   "execution_count": 22,
   "metadata": {},
   "outputs": [],
   "source": [
    "# Adjust data frame for the heatmap\n",
    "import pandas as pd\n",
    "df_corr_matrix = df_corr_matrix.drop('ID', 1)\n",
    "df_corr_matrix.index=numeric_cols"
   ]
  },
  {
   "cell_type": "code",
   "execution_count": 23,
   "metadata": {},
   "outputs": [
    {
     "data": {
      "image/png": "[encoded data removed]",
      "text/plain": [
       "<Figure size 432x288 with 2 Axes>"
      ]
     },
     "metadata": {
      "needs_background": "light"
     },
     "output_type": "display_data"
    }
   ],
   "source": [
    "# Plot correlation matrix\n",
    "import seaborn as sns\n",
    "sns.heatmap(df_corr_matrix, cmap=\"coolwarm\", linewidths=.5, square=True, vmin=-1, vmax=1, annot=True);"
   ]
  },
  {
   "cell_type": "markdown",
   "metadata": {},
   "source": [
    "### Save adjusted data as view"
   ]
  },
  {
   "cell_type": "code",
   "execution_count": 24,
   "metadata": {},
   "outputs": [
    {
     "data": {
      "text/plain": [
       "<hana_ml.dataframe.DataFrame at 0x7fd3b46a1e48>"
      ]
     },
     "execution_count": 24,
     "metadata": {},
     "output_type": "execute_result"
    }
   ],
   "source": [
    "df_pushdown.save(where=(\"TAXX\", \"USEDCARPRICES_PREP_VIEW\"), table_type=\"VIEW\")"
   ]
  },
  {
   "cell_type": "markdown",
   "metadata": {},
   "source": [
    "### Close connection"
   ]
  },
  {
   "cell_type": "code",
   "execution_count": 25,
   "metadata": {},
   "outputs": [],
   "source": [
    "conn.close()"
   ]
  },
  {
   "cell_type": "code",
   "execution_count": null,
   "metadata": {},
   "outputs": [],
   "source": []
  }
 ],
 "metadata": {
  "createdAt": "2019-05-03T17:12:50Z",
  "description": "Continue exploratory data analysis on imputed data.",
  "kernelspec": {
   "display_name": "Python 3",
   "language": "python",
   "name": "python3"
  },
  "language_info": {
   "codemirror_mode": {
    "name": "ipython",
    "version": 3
   },
   "file_extension": ".py",
   "mimetype": "text/x-python",
   "name": "python",
   "nbconvert_exporter": "python",
   "pygments_lexer": "ipython3",
   "version": "3.7.1"
  },
  "modifiedAt": "2019-05-03T17:12:50Z",
  "name": "20 More EDA",
  "rating": 0,
  "scenarioId": "3bd5ee44-92b1-4224-95dc-4e688a637e85"
 },
 "nbformat": 4,
 "nbformat_minor": 2
}
