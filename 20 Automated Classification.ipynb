{
 "cells": [
  {
   "cell_type": "markdown",
   "metadata": {},
   "source": [
    "# Predict purchasing probability for financial product - Train model"
   ]
  },
  {
   "cell_type": "markdown",
   "metadata": {},
   "source": [
    "### Introduction\n",
    "-  Push calculations down to SAP HANA. \n",
    "-  Leverage the in-memory performance directly out of Python without data extraction.\n",
    "\n",
    "### Documentation\n",
    "-  SAP HANA Python Client API for Machine Learning Algorithms:   \n",
    "   https://help.sap.com/doc/0172e3957b5946da85d3fde85ee8f33d/latest/en-US/html/hana_ml.html\n",
    "-  SAP HANA Automated Predictive Library (APL):\n",
    "   https://help.sap.com/viewer/cb31bd99d09747089754a0ba75067ed2/latest/en-US/5db34eae84ed44e49ec1f0f78dfb52a1.html\n",
    "-  Dataset: https://archive.ics.uci.edu/ml/datasets/bank+marketing"
   ]
  },
  {
   "cell_type": "markdown",
   "metadata": {},
   "source": [
    "### Automated Predictive Library"
   ]
  },
  {
   "cell_type": "markdown",
   "metadata": {},
   "source": [
    "The Automated Predictive Library scales the use of Machine Learning through automation. Whilst the framework is highly automated, the inner workings are documented for the interested reader in the followng blog, which will also help with the model interpretation:\n",
    "https://blogs.sap.com/2015/07/01/how-does-automated-analytics-do-it-the-magic-behind-creating-predictive-models-automatically/"
   ]
  },
  {
   "cell_type": "markdown",
   "metadata": {},
   "source": [
    "### Create a HANA DataFrame, which points to the training data that remains in SAP HANA"
   ]
  },
  {
   "cell_type": "code",
   "execution_count": 1,
   "metadata": {
    "collapsed": true
   },
   "outputs": [],
   "source": [
    "# Obtain logon details from the central Connection Management of SAP Data Intelligence\n",
    "import hana_ml.dataframe as dataframe\n",
    "\n",
    "# Instantiate connection object\n",
    "from notebook_hana_connector.notebook_hana_connector import NotebookConnectionContext\n",
    "conn = NotebookConnectionContext(connectionId='HANADB')\n",
    "\n",
    "# Create the HANA dataframe in the structure of the specified table\n",
    "df_pushdown = conn.table(\"BANKMARKETING\", schema=\"TAXX\")"
   ]
  },
  {
   "cell_type": "markdown",
   "metadata": {},
   "source": [
    "### Train Classification model with Automated Predictive Library (APL)"
   ]
  },
  {
   "cell_type": "code",
   "execution_count": 2,
   "metadata": {},
   "outputs": [],
   "source": [
    "from hana_ml.algorithms.apl.classification import AutoClassifier\n",
    "apl_model = AutoClassifier(conn_context=conn)"
   ]
  },
  {
   "cell_type": "markdown",
   "metadata": {},
   "source": [
    "Specify the target column."
   ]
  },
  {
   "cell_type": "code",
   "execution_count": 3,
   "metadata": {},
   "outputs": [],
   "source": [
    "col_target = 'Y'"
   ]
  },
  {
   "cell_type": "markdown",
   "metadata": {},
   "source": [
    "Specify the predictor columns."
   ]
  },
  {
   "cell_type": "code",
   "execution_count": 4,
   "metadata": {},
   "outputs": [
    {
     "data": {
      "text/plain": [
       "['AGE',\n",
       " 'JOB',\n",
       " 'MARITAL',\n",
       " 'EDUCATION',\n",
       " 'DEFAULT',\n",
       " 'BALANCE',\n",
       " 'HOUSING',\n",
       " 'LOAN',\n",
       " 'CONTACT',\n",
       " 'DAY',\n",
       " 'MONTH',\n",
       " 'POUTCOME']"
      ]
     },
     "execution_count": 4,
     "metadata": {},
     "output_type": "execute_result"
    }
   ],
   "source": [
    "col_predictors = df_pushdown.columns\n",
    "col_predictors.remove('Y');\n",
    "col_predictors.remove('CLIENT_ID');\n",
    "col_predictors"
   ]
  },
  {
   "cell_type": "markdown",
   "metadata": {},
   "source": [
    "Set further configurations and train the model"
   ]
  },
  {
   "cell_type": "code",
   "execution_count": 5,
   "metadata": {},
   "outputs": [],
   "source": [
    "apl_model.set_params(target_key='yes') # The behaviour the model will predict\n",
    "apl_model.set_params(cutting_strategy='random with test at end') # Internal splitting strategy\n",
    "apl_model.fit(df_pushdown, label=col_target, key='CLIENT_ID', features=col_predictors)"
   ]
  },
  {
   "cell_type": "markdown",
   "metadata": {},
   "source": [
    "### Model Quality"
   ]
  },
  {
   "cell_type": "code",
   "execution_count": 6,
   "metadata": {},
   "outputs": [
    {
     "data": {
      "text/html": [
       "<div>\n",
       "<style scoped>\n",
       "    .dataframe tbody tr th:only-of-type {\n",
       "        vertical-align: middle;\n",
       "    }\n",
       "\n",
       "    .dataframe tbody tr th {\n",
       "        vertical-align: top;\n",
       "    }\n",
       "\n",
       "    .dataframe thead th {\n",
       "        text-align: right;\n",
       "    }\n",
       "</style>\n",
       "<table border=\"1\" class=\"dataframe\">\n",
       "  <thead>\n",
       "    <tr style=\"text-align: right;\">\n",
       "      <th></th>\n",
       "      <th>METRIC</th>\n",
       "      <th>VALUE</th>\n",
       "    </tr>\n",
       "  </thead>\n",
       "  <tbody>\n",
       "    <tr>\n",
       "      <th>18</th>\n",
       "      <td>PredictivePower</td>\n",
       "      <td>0.4180</td>\n",
       "    </tr>\n",
       "    <tr>\n",
       "      <th>19</th>\n",
       "      <td>PredictionConfidence</td>\n",
       "      <td>0.9849</td>\n",
       "    </tr>\n",
       "    <tr>\n",
       "      <th>21</th>\n",
       "      <td>AUC</td>\n",
       "      <td>0.7160</td>\n",
       "    </tr>\n",
       "  </tbody>\n",
       "</table>\n",
       "</div>"
      ],
      "text/plain": [
       "                  METRIC   VALUE\n",
       "18       PredictivePower  0.4180\n",
       "19  PredictionConfidence  0.9849\n",
       "21                   AUC  0.7160"
      ]
     },
     "execution_count": 6,
     "metadata": {},
     "output_type": "execute_result"
    }
   ],
   "source": [
    "import pandas as pd\n",
    "list_performance = apl_model.get_performance_metrics()\n",
    "df_performance = pd.DataFrame(list(list_performance.items()), columns=[\"METRIC\", \"VALUE\"])\n",
    "df_performance.loc[df_performance['METRIC'].isin(['AUC','PredictivePower','PredictionConfidence'])]"
   ]
  },
  {
   "cell_type": "markdown",
   "metadata": {},
   "source": [
    "### Model summary"
   ]
  },
  {
   "cell_type": "code",
   "execution_count": 7,
   "metadata": {},
   "outputs": [
    {
     "data": {
      "text/html": [
       "<div>\n",
       "<style scoped>\n",
       "    .dataframe tbody tr th:only-of-type {\n",
       "        vertical-align: middle;\n",
       "    }\n",
       "\n",
       "    .dataframe tbody tr th {\n",
       "        vertical-align: top;\n",
       "    }\n",
       "\n",
       "    .dataframe thead th {\n",
       "        text-align: right;\n",
       "    }\n",
       "</style>\n",
       "<table border=\"1\" class=\"dataframe\">\n",
       "  <thead>\n",
       "    <tr style=\"text-align: right;\">\n",
       "      <th></th>\n",
       "      <th>OID</th>\n",
       "      <th>KEY</th>\n",
       "      <th>VALUE</th>\n",
       "    </tr>\n",
       "  </thead>\n",
       "  <tbody>\n",
       "    <tr>\n",
       "      <th>0</th>\n",
       "      <td>361D80A8_CEB3_46A0_B304_5C3C0EF951A2_0</td>\n",
       "      <td>ModelState</td>\n",
       "      <td>TrainedModel</td>\n",
       "    </tr>\n",
       "    <tr>\n",
       "      <th>1</th>\n",
       "      <td>361D80A8_CEB3_46A0_B304_5C3C0EF951A2_0</td>\n",
       "      <td>ModelDatasetName</td>\n",
       "      <td>APL_InputTrainingData</td>\n",
       "    </tr>\n",
       "    <tr>\n",
       "      <th>2</th>\n",
       "      <td>361D80A8_CEB3_46A0_B304_5C3C0EF951A2_0</td>\n",
       "      <td>ModelVariableCount</td>\n",
       "      <td>14</td>\n",
       "    </tr>\n",
       "    <tr>\n",
       "      <th>3</th>\n",
       "      <td>361D80A8_CEB3_46A0_B304_5C3C0EF951A2_0</td>\n",
       "      <td>ModelSelectedVariableCount</td>\n",
       "      <td>12</td>\n",
       "    </tr>\n",
       "    <tr>\n",
       "      <th>4</th>\n",
       "      <td>361D80A8_CEB3_46A0_B304_5C3C0EF951A2_0</td>\n",
       "      <td>ModelAvailable</td>\n",
       "      <td>true</td>\n",
       "    </tr>\n",
       "    <tr>\n",
       "      <th>5</th>\n",
       "      <td>361D80A8_CEB3_46A0_B304_5C3C0EF951A2_0</td>\n",
       "      <td>ModelRecordCount</td>\n",
       "      <td>45211</td>\n",
       "    </tr>\n",
       "    <tr>\n",
       "      <th>6</th>\n",
       "      <td>361D80A8_CEB3_46A0_B304_5C3C0EF951A2_0</td>\n",
       "      <td>ModelCuttingStrategy</td>\n",
       "      <td>random with test at end</td>\n",
       "    </tr>\n",
       "    <tr>\n",
       "      <th>7</th>\n",
       "      <td>361D80A8_CEB3_46A0_B304_5C3C0EF951A2_0</td>\n",
       "      <td>ModelRecordCountEstimation</td>\n",
       "      <td>26914</td>\n",
       "    </tr>\n",
       "    <tr>\n",
       "      <th>8</th>\n",
       "      <td>361D80A8_CEB3_46A0_B304_5C3C0EF951A2_0</td>\n",
       "      <td>ModelRecordCountValidation</td>\n",
       "      <td>9254</td>\n",
       "    </tr>\n",
       "    <tr>\n",
       "      <th>9</th>\n",
       "      <td>361D80A8_CEB3_46A0_B304_5C3C0EF951A2_0</td>\n",
       "      <td>ModelRecordCountTest</td>\n",
       "      <td>9043</td>\n",
       "    </tr>\n",
       "    <tr>\n",
       "      <th>10</th>\n",
       "      <td>361D80A8_CEB3_46A0_B304_5C3C0EF951A2_0</td>\n",
       "      <td>ModelBuildDate</td>\n",
       "      <td>2019-08-29 12:26:49</td>\n",
       "    </tr>\n",
       "    <tr>\n",
       "      <th>11</th>\n",
       "      <td>361D80A8_CEB3_46A0_B304_5C3C0EF951A2_0</td>\n",
       "      <td>ModelLearningTime</td>\n",
       "      <td>11</td>\n",
       "    </tr>\n",
       "    <tr>\n",
       "      <th>12</th>\n",
       "      <td>361D80A8_CEB3_46A0_B304_5C3C0EF951A2_0</td>\n",
       "      <td>ModelEngineName</td>\n",
       "      <td>Kxen.RobustRegression</td>\n",
       "    </tr>\n",
       "    <tr>\n",
       "      <th>13</th>\n",
       "      <td>361D80A8_CEB3_46A0_B304_5C3C0EF951A2_0</td>\n",
       "      <td>ModelAuthor</td>\n",
       "      <td>hdbadm</td>\n",
       "    </tr>\n",
       "    <tr>\n",
       "      <th>14</th>\n",
       "      <td>361D80A8_CEB3_46A0_B304_5C3C0EF951A2_0</td>\n",
       "      <td>AplTrainingElapsedTime</td>\n",
       "      <td>11115</td>\n",
       "    </tr>\n",
       "    <tr>\n",
       "      <th>15</th>\n",
       "      <td>361D80A8_CEB3_46A0_B304_5C3C0EF951A2_0</td>\n",
       "      <td>AplModelWriteElapsedTime</td>\n",
       "      <td>68</td>\n",
       "    </tr>\n",
       "    <tr>\n",
       "      <th>16</th>\n",
       "      <td>361D80A8_CEB3_46A0_B304_5C3C0EF951A2_0</td>\n",
       "      <td>AplDebriefElapsedTime</td>\n",
       "      <td>0</td>\n",
       "    </tr>\n",
       "    <tr>\n",
       "      <th>17</th>\n",
       "      <td>361D80A8_CEB3_46A0_B304_5C3C0EF951A2_0</td>\n",
       "      <td>AplTotalElapsedTime</td>\n",
       "      <td>11233</td>\n",
       "    </tr>\n",
       "  </tbody>\n",
       "</table>\n",
       "</div>"
      ],
      "text/plain": [
       "                                       OID                         KEY  \\\n",
       "0   361D80A8_CEB3_46A0_B304_5C3C0EF951A2_0                  ModelState   \n",
       "1   361D80A8_CEB3_46A0_B304_5C3C0EF951A2_0            ModelDatasetName   \n",
       "2   361D80A8_CEB3_46A0_B304_5C3C0EF951A2_0          ModelVariableCount   \n",
       "3   361D80A8_CEB3_46A0_B304_5C3C0EF951A2_0  ModelSelectedVariableCount   \n",
       "4   361D80A8_CEB3_46A0_B304_5C3C0EF951A2_0              ModelAvailable   \n",
       "5   361D80A8_CEB3_46A0_B304_5C3C0EF951A2_0            ModelRecordCount   \n",
       "6   361D80A8_CEB3_46A0_B304_5C3C0EF951A2_0        ModelCuttingStrategy   \n",
       "7   361D80A8_CEB3_46A0_B304_5C3C0EF951A2_0  ModelRecordCountEstimation   \n",
       "8   361D80A8_CEB3_46A0_B304_5C3C0EF951A2_0  ModelRecordCountValidation   \n",
       "9   361D80A8_CEB3_46A0_B304_5C3C0EF951A2_0        ModelRecordCountTest   \n",
       "10  361D80A8_CEB3_46A0_B304_5C3C0EF951A2_0              ModelBuildDate   \n",
       "11  361D80A8_CEB3_46A0_B304_5C3C0EF951A2_0           ModelLearningTime   \n",
       "12  361D80A8_CEB3_46A0_B304_5C3C0EF951A2_0             ModelEngineName   \n",
       "13  361D80A8_CEB3_46A0_B304_5C3C0EF951A2_0                 ModelAuthor   \n",
       "14  361D80A8_CEB3_46A0_B304_5C3C0EF951A2_0      AplTrainingElapsedTime   \n",
       "15  361D80A8_CEB3_46A0_B304_5C3C0EF951A2_0    AplModelWriteElapsedTime   \n",
       "16  361D80A8_CEB3_46A0_B304_5C3C0EF951A2_0       AplDebriefElapsedTime   \n",
       "17  361D80A8_CEB3_46A0_B304_5C3C0EF951A2_0         AplTotalElapsedTime   \n",
       "\n",
       "                      VALUE  \n",
       "0              TrainedModel  \n",
       "1     APL_InputTrainingData  \n",
       "2                        14  \n",
       "3                        12  \n",
       "4                      true  \n",
       "5                     45211  \n",
       "6   random with test at end  \n",
       "7                     26914  \n",
       "8                      9254  \n",
       "9                      9043  \n",
       "10      2019-08-29 12:26:49  \n",
       "11                       11  \n",
       "12    Kxen.RobustRegression  \n",
       "13                   hdbadm  \n",
       "14                    11115  \n",
       "15                       68  \n",
       "16                        0  \n",
       "17                    11233  "
      ]
     },
     "execution_count": 7,
     "metadata": {},
     "output_type": "execute_result"
    }
   ],
   "source": [
    "apl_model.get_summary().collect()"
   ]
  },
  {
   "cell_type": "markdown",
   "metadata": {},
   "source": [
    "### Variable Contributions"
   ]
  },
  {
   "cell_type": "code",
   "execution_count": 8,
   "metadata": {},
   "outputs": [
    {
     "data": {
      "text/html": [
       "<div>\n",
       "<style scoped>\n",
       "    .dataframe tbody tr th:only-of-type {\n",
       "        vertical-align: middle;\n",
       "    }\n",
       "\n",
       "    .dataframe tbody tr th {\n",
       "        vertical-align: top;\n",
       "    }\n",
       "\n",
       "    .dataframe thead th {\n",
       "        text-align: right;\n",
       "    }\n",
       "</style>\n",
       "<table border=\"1\" class=\"dataframe\">\n",
       "  <thead>\n",
       "    <tr style=\"text-align: right;\">\n",
       "      <th></th>\n",
       "      <th>VARIABLE</th>\n",
       "      <th>CONTRIBUTION</th>\n",
       "    </tr>\n",
       "  </thead>\n",
       "  <tbody>\n",
       "    <tr>\n",
       "      <th>0</th>\n",
       "      <td>MONTH</td>\n",
       "      <td>0.272467</td>\n",
       "    </tr>\n",
       "    <tr>\n",
       "      <th>1</th>\n",
       "      <td>CONTACT</td>\n",
       "      <td>0.164968</td>\n",
       "    </tr>\n",
       "    <tr>\n",
       "      <th>2</th>\n",
       "      <td>BALANCE</td>\n",
       "      <td>0.102779</td>\n",
       "    </tr>\n",
       "    <tr>\n",
       "      <th>3</th>\n",
       "      <td>DAY</td>\n",
       "      <td>0.086136</td>\n",
       "    </tr>\n",
       "    <tr>\n",
       "      <th>4</th>\n",
       "      <td>AGE</td>\n",
       "      <td>0.083152</td>\n",
       "    </tr>\n",
       "    <tr>\n",
       "      <th>5</th>\n",
       "      <td>HOUSING</td>\n",
       "      <td>0.079452</td>\n",
       "    </tr>\n",
       "    <tr>\n",
       "      <th>6</th>\n",
       "      <td>JOB</td>\n",
       "      <td>0.078661</td>\n",
       "    </tr>\n",
       "    <tr>\n",
       "      <th>7</th>\n",
       "      <td>MARITAL</td>\n",
       "      <td>0.069132</td>\n",
       "    </tr>\n",
       "    <tr>\n",
       "      <th>8</th>\n",
       "      <td>LOAN</td>\n",
       "      <td>0.055573</td>\n",
       "    </tr>\n",
       "    <tr>\n",
       "      <th>9</th>\n",
       "      <td>EDUCATION</td>\n",
       "      <td>0.007680</td>\n",
       "    </tr>\n",
       "  </tbody>\n",
       "</table>\n",
       "</div>"
      ],
      "text/plain": [
       "    VARIABLE  CONTRIBUTION\n",
       "0      MONTH      0.272467\n",
       "1    CONTACT      0.164968\n",
       "2    BALANCE      0.102779\n",
       "3        DAY      0.086136\n",
       "4        AGE      0.083152\n",
       "5    HOUSING      0.079452\n",
       "6        JOB      0.078661\n",
       "7    MARITAL      0.069132\n",
       "8       LOAN      0.055573\n",
       "9  EDUCATION      0.007680"
      ]
     },
     "execution_count": 8,
     "metadata": {},
     "output_type": "execute_result"
    }
   ],
   "source": [
    "list_contributions = apl_model.get_feature_importances()\n",
    "df_contribution = pd.DataFrame(list(list_contributions.items()), columns=[\"VARIABLE\", \"CONTRIBUTION\"])\n",
    "df_contribution = df_contribution.sort_values(by=['CONTRIBUTION'], ascending = False)\n",
    "df_contribution"
   ]
  },
  {
   "cell_type": "code",
   "execution_count": 9,
   "metadata": {},
   "outputs": [
    {
     "data": {
      "image/png": "[encoded data removed]",
      "text/plain": [
       "<Figure size 576x576 with 1 Axes>"
      ]
     },
     "metadata": {
      "needs_background": "light"
     },
     "output_type": "display_data"
    }
   ],
   "source": [
    "%matplotlib inline \n",
    "import matplotlib.pyplot as plt\n",
    "ax = df_contribution.plot.barh(figsize=(8, 8), x='VARIABLE', y=\"CONTRIBUTION\");\n",
    "#ax = df_contribution.plot.bar(x='VARIABLE', y=\"CONTRIBUTION\", );\n",
    "ax.set_title(\"Contributions by variables\", fontsize=18)\n",
    "ax.invert_yaxis();\n",
    "ax.set_xlabel(\"Contribution\", fontsize=15)\n",
    "ax.set_ylabel(\"Variable\", fontsize=15);"
   ]
  },
  {
   "cell_type": "markdown",
   "metadata": {},
   "source": [
    "### Category Significance\n",
    "Investigate how the information held in a column affects the prediction."
   ]
  },
  {
   "cell_type": "code",
   "execution_count": 10,
   "metadata": {},
   "outputs": [],
   "source": [
    "variable_name = \"MONTH\"\n",
    "\n",
    "# Obtain the Group Normal Profit, the Group Target Mean and the Group Frequency\n",
    "df_indicators = apl_model.get_indicators().collect()\n",
    "df_group_profit = df_indicators[(df_indicators['KEY']=='GroupNormalProfit') & (df_indicators['VARIABLE']==variable_name)].copy()\n",
    "df_group_target_mean = df_indicators[(df_indicators['KEY']=='GroupTargetMean') & (df_indicators['VARIABLE']==variable_name)].copy()\n",
    "df_group_frequency = df_indicators[(df_indicators['KEY']=='GroupFrequency') & (df_indicators['VARIABLE']==variable_name)].copy()\n",
    "\n",
    "# Turn the value variable into a float\n",
    "df_group_profit[\"VALUE\"] = df_group_profit[\"VALUE\"].astype(float)\n",
    "df_group_target_mean[\"VALUE\"] = df_group_target_mean[\"VALUE\"].astype(float)\n",
    "df_group_frequency[\"VALUE\"] = df_group_frequency[\"VALUE\"].astype(float)\n",
    "\n",
    "# Rename the value variable\n",
    "df_group_profit.rename(columns={'VALUE': 'GROUP_PROFIT'}, inplace=True)\n",
    "df_group_target_mean.rename(columns={'VALUE': 'GROUP_TARGET_MEAN'}, inplace=True)\n",
    "df_group_frequency.rename(columns={'VALUE': 'GROUP_FREQUENCY'}, inplace=True)\n",
    "\n",
    "# Drop unnecessary columns\n",
    "df_group_frequency = df_group_frequency[[\"DETAIL\", \"GROUP_FREQUENCY\"]]\n",
    "\n",
    "# Join the data frames\n",
    "df_category_signif = pd.merge(df_group_profit, df_group_target_mean, on='DETAIL')\n",
    "df_category_signif = pd.merge(df_category_signif, df_group_frequency, on='DETAIL')\n",
    "\n",
    "# Group order\n",
    "group_order = df_category_signif.sort_values(\"GROUP_TARGET_MEAN\", ascending=False)[\"DETAIL\"]\n",
    "\n",
    "# Rename\n",
    "df_category_signif.rename(columns={'DETAIL': 'CATEGORIES'}, inplace=True)\n",
    "\n",
    "# influence on target\n",
    "z_approx = 0.25 # see https://help.sap.com/viewer/bc031e667eea409c9e08e7ab8b1e4c70/3.3/en-US/4658fb102e9b4d9399d6dcb644dfab4c.html\n",
    "df_category_signif[\"INFLUENCE\"] = df_category_signif[\"GROUP_PROFIT\"] * df_category_signif[\"GROUP_FREQUENCY\"] / z_approx"
   ]
  },
  {
   "cell_type": "markdown",
   "metadata": {},
   "source": [
    "In the following bar chart, categories on the left hand side have the highest proportion of the target population. The categories are sorted in descending order of the proportion. When the influence (y-axis) becomes negative, the target proportion of the category is lower than the overall's population. The  further left the category, the higher the affinity."
   ]
  },
  {
   "cell_type": "code",
   "execution_count": 14,
   "metadata": {},
   "outputs": [],
   "source": [
    "#!pip install seaborn"
   ]
  },
  {
   "cell_type": "code",
   "execution_count": 15,
   "metadata": {},
   "outputs": [
    {
     "data": {
      "image/png": "[encoded data removed]",
      "text/plain": [
       "<Figure size 432x288 with 1 Axes>"
      ]
     },
     "metadata": {
      "needs_background": "light"
     },
     "output_type": "display_data"
    }
   ],
   "source": [
    "import seaborn as sns\n",
    "bplot = sns.barplot(x=\"CATEGORIES\", y=\"INFLUENCE\", order=group_order, color=\"darkblue\", data=df_category_signif)\n",
    "bplot.set_title(variable_name)\n",
    "bplot.set_xticklabels(bplot.get_xticklabels(), rotation=45);"
   ]
  },
  {
   "cell_type": "markdown",
   "metadata": {},
   "source": [
    "### Save the model to SAP HANA table"
   ]
  },
  {
   "cell_type": "code",
   "execution_count": 16,
   "metadata": {},
   "outputs": [],
   "source": [
    "apl_model.save_model(schema_name='TAXX', table_name='BANKMARKETING_MODEL_APL',if_exists='replace')"
   ]
  },
  {
   "cell_type": "markdown",
   "metadata": {},
   "source": [
    "### Close connection"
   ]
  },
  {
   "cell_type": "code",
   "execution_count": null,
   "metadata": {},
   "outputs": [],
   "source": [
    "conn.close()"
   ]
  },
  {
   "cell_type": "code",
   "execution_count": null,
   "metadata": {},
   "outputs": [],
   "source": []
  }
 ],
 "metadata": {
  "createdAt": "2019-05-05T11:57:55Z",
  "description": "Train the predictive model with the Automated Predictive Library.",
  "kernelspec": {
   "display_name": "Python 3",
   "language": "python",
   "name": "python3"
  },
  "language_info": {
   "codemirror_mode": {
    "name": "ipython",
    "version": 3
   },
   "file_extension": ".py",
   "mimetype": "text/x-python",
   "name": "python",
   "nbconvert_exporter": "python",
   "pygments_lexer": "ipython3",
   "version": "3.7.1"
  },
  "modifiedAt": "2019-05-05T11:57:55Z",
  "name": "20 Automated Classification",
  "rating": 0,
  "scenarioId": "ec920a89-1c44-4b04-972a-403fa20bab12"
 },
 "nbformat": 4,
 "nbformat_minor": 2
}
